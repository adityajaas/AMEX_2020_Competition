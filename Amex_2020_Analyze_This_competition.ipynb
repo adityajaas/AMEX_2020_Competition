{
  "nbformat": 4,
  "nbformat_minor": 0,
  "metadata": {
    "colab": {
      "name": "Amex_2020_Analyze_This_competition.ipynb",
      "provenance": [],
      "collapsed_sections": [
        "5ZDCbPKte8Wu",
        "CZYYACPHgTrG",
        "h5IwYndjgYhp",
        "G2XN1c8fxE0a",
        "5QGcFq5DR8Jv",
        "sNt76eOtaLJT",
        "469cID8kRwJu"
      ]
    },
    "kernelspec": {
      "name": "python3",
      "display_name": "Python 3"
    }
  },
  "cells": [
    {
      "cell_type": "markdown",
      "metadata": {
        "id": "5ZDCbPKte8Wu"
      },
      "source": [
        "# **Libraries Loading, Data Extraction, and cleaning**"
      ]
    },
    {
      "cell_type": "markdown",
      "metadata": {
        "id": "CZYYACPHgTrG"
      },
      "source": [
        "## **Load Libraries**"
      ]
    },
    {
      "cell_type": "code",
      "metadata": {
        "id": "YZSA23abe5u7"
      },
      "source": [
        "import pandas as pd\n",
        "import numpy as np\n",
        "import matplotlib.pyplot as plt\n",
        "from sklearn.linear_model import LogisticRegression\n",
        "from sklearn.impute import SimpleImputer\n",
        "from sklearn.decomposition import PCA\n",
        "from sklearn.neighbors import KNeighborsClassifier\n",
        "from sklearn.ensemble import RandomForestClassifier, GradientBoostingClassifier\n",
        "from sklearn.naive_bayes import GaussianNB\n",
        "from sklearn.svm import SVC\n",
        "from sklearn.metrics import roc_auc_score, roc_curve, mean_squared_error, classification_report\n",
        "from sklearn.metrics import accuracy_score, confusion_matrix, precision_score, recall_score\n",
        "from sklearn.preprocessing import StandardScaler, LabelEncoder, OneHotEncoder\n",
        "from sklearn.model_selection import train_test_split, cross_val_score, RepeatedStratifiedKFold, StratifiedKFold\n",
        "from collections import Counter\n",
        "import seaborn as sns\n",
        "\n",
        "import warnings\n",
        "warnings.filterwarnings('ignore')"
      ],
      "execution_count": null,
      "outputs": []
    },
    {
      "cell_type": "markdown",
      "metadata": {
        "id": "h5IwYndjgYhp"
      },
      "source": [
        "## **Importing Data**"
      ]
    },
    {
      "cell_type": "code",
      "metadata": {
        "id": "zWJ9i0NRnnSe",
        "colab": {
          "base_uri": "https://localhost:8080/"
        },
        "outputId": "8e08b63f-619e-494d-cac1-3c86da789cb5"
      },
      "source": [
        "! git clone https://github.com/adityajaas/AMEX_2020_Competition"
      ],
      "execution_count": null,
      "outputs": [
        {
          "output_type": "stream",
          "text": [
            "fatal: destination path 'AMEX_2020_Competition' already exists and is not an empty directory.\n"
          ],
          "name": "stdout"
        }
      ]
    },
    {
      "cell_type": "code",
      "metadata": {
        "id": "M6AwN19moa69"
      },
      "source": [
        "train_data = pd.read_csv('/content/AMEX_2020_Competition/Training_Data.csv')\n",
        "test_data = pd.read_csv('/content/AMEX_2020_Competition/Evaluation_Data.csv')\n",
        "data_info = pd.read_csv('/content/AMEX_2020_Competition/Data_Dictionary.csv', sep=';', encoding='cp1252')"
      ],
      "execution_count": null,
      "outputs": []
    },
    {
      "cell_type": "code",
      "metadata": {
        "id": "asF8BBsgo-5d",
        "colab": {
          "base_uri": "https://localhost:8080/",
          "height": 430
        },
        "outputId": "6fad17dd-6d48-4c00-a0b2-9953fe708444"
      },
      "source": [
        "train_data.head(10)"
      ],
      "execution_count": null,
      "outputs": [
        {
          "output_type": "execute_result",
          "data": {
            "text/html": [
              "<div>\n",
              "<style scoped>\n",
              "    .dataframe tbody tr th:only-of-type {\n",
              "        vertical-align: middle;\n",
              "    }\n",
              "\n",
              "    .dataframe tbody tr th {\n",
              "        vertical-align: top;\n",
              "    }\n",
              "\n",
              "    .dataframe thead th {\n",
              "        text-align: right;\n",
              "    }\n",
              "</style>\n",
              "<table border=\"1\" class=\"dataframe\">\n",
              "  <thead>\n",
              "    <tr style=\"text-align: right;\">\n",
              "      <th></th>\n",
              "      <th>cust_id</th>\n",
              "      <th>profitable_flag</th>\n",
              "      <th>count_accts</th>\n",
              "      <th>cm_age</th>\n",
              "      <th>flag_top_ed_spender</th>\n",
              "      <th>flag_cust_fee_paid_6m</th>\n",
              "      <th>pre6m_cust_spend</th>\n",
              "      <th>pre6m_cust_roc_cnt</th>\n",
              "      <th>pre6m_cust_non_disc_amt</th>\n",
              "      <th>pre6m_cust_non_disc_cnt</th>\n",
              "      <th>pre6m_cust_disc_amt</th>\n",
              "      <th>pre6m_cust_disc_cnt</th>\n",
              "      <th>pre6m_cust_outbound_amt</th>\n",
              "      <th>pre6m_cust_online_amt</th>\n",
              "      <th>pre6m_cust_online_cnt</th>\n",
              "      <th>pre6m_cust_travel_amt</th>\n",
              "      <th>pre6m_cust_travel_cnt</th>\n",
              "      <th>pre6m_cust_retail_amt</th>\n",
              "      <th>pre6m_cust_retail_cnt</th>\n",
              "      <th>pre6m_cust_myca_active</th>\n",
              "      <th>pre6m_cust_mob_logins</th>\n",
              "      <th>pre6m_total_mc_trs</th>\n",
              "      <th>acq_sub_chn</th>\n",
              "      <th>acq_type_grp</th>\n",
              "      <th>fee_type_grp</th>\n",
              "      <th>Cust_tenure</th>\n",
              "      <th>pre6m_spend_active_ind</th>\n",
              "      <th>highly_utilized_ind</th>\n",
              "      <th>min_pay_ind</th>\n",
              "      <th>paid_in_full_ind</th>\n",
              "      <th>sum_total_line_amt</th>\n",
              "      <th>direct_debit_ind</th>\n",
              "      <th>referrals</th>\n",
              "      <th>spillover</th>\n",
              "      <th>self_accts</th>\n",
              "      <th>Customer Low Quality indicator</th>\n",
              "      <th>cdss_most_rcnt_prob</th>\n",
              "      <th>cust_max_credit_12m_amt</th>\n",
              "      <th>cust_max_remit_12m_amt</th>\n",
              "      <th>cbr_3_score</th>\n",
              "      <th>cnsumr_chrg_actv_cust_cnt</th>\n",
              "      <th>cnsumr_chrg_avg_credit_12m_amt</th>\n",
              "      <th>cnsumr_lend_actv_cust_cnt</th>\n",
              "      <th>cnsumr_lend_tot_util_ratio</th>\n",
              "      <th>sow_revol_avg_paydown_pct</th>\n",
              "      <th>sow_tot_annual_ext_pmt_amt</th>\n",
              "      <th>sow_tot_revol_bal_amt</th>\n",
              "      <th>sow_tot_revol_cnt</th>\n",
              "      <th>sow_tot_trans_bal_amt</th>\n",
              "      <th>sow_tot_trans_cnt</th>\n",
              "    </tr>\n",
              "  </thead>\n",
              "  <tbody>\n",
              "    <tr>\n",
              "      <th>0</th>\n",
              "      <td>550391.0</td>\n",
              "      <td>0.0</td>\n",
              "      <td>1.0</td>\n",
              "      <td>74.0</td>\n",
              "      <td>1.0</td>\n",
              "      <td>0.0</td>\n",
              "      <td>1,518</td>\n",
              "      <td>122.0</td>\n",
              "      <td>811</td>\n",
              "      <td>96.0</td>\n",
              "      <td>707</td>\n",
              "      <td>26.0</td>\n",
              "      <td>-</td>\n",
              "      <td>606</td>\n",
              "      <td>36.0</td>\n",
              "      <td>28</td>\n",
              "      <td>2.0</td>\n",
              "      <td>814</td>\n",
              "      <td>98.0</td>\n",
              "      <td>9.0</td>\n",
              "      <td>203.0</td>\n",
              "      <td>(2)</td>\n",
              "      <td>Unreferred</td>\n",
              "      <td>external</td>\n",
              "      <td>no_fee</td>\n",
              "      <td>63.0</td>\n",
              "      <td>1.0</td>\n",
              "      <td>0.0</td>\n",
              "      <td>0.0</td>\n",
              "      <td>1.0</td>\n",
              "      <td>80,000</td>\n",
              "      <td>1.0</td>\n",
              "      <td>1.0</td>\n",
              "      <td>0.0</td>\n",
              "      <td>0.0</td>\n",
              "      <td>0.0</td>\n",
              "      <td>0.000</td>\n",
              "      <td>482</td>\n",
              "      <td>418</td>\n",
              "      <td>1376.0</td>\n",
              "      <td>0.0</td>\n",
              "      <td>-</td>\n",
              "      <td>1.0</td>\n",
              "      <td>0.034044</td>\n",
              "      <td>0.0000</td>\n",
              "      <td>991</td>\n",
              "      <td>-</td>\n",
              "      <td>0.0</td>\n",
              "      <td>-</td>\n",
              "      <td>3.0</td>\n",
              "    </tr>\n",
              "    <tr>\n",
              "      <th>1</th>\n",
              "      <td>550392.0</td>\n",
              "      <td>0.0</td>\n",
              "      <td>1.0</td>\n",
              "      <td>64.0</td>\n",
              "      <td>0.0</td>\n",
              "      <td>0.0</td>\n",
              "      <td>4,807</td>\n",
              "      <td>354.0</td>\n",
              "      <td>1,052</td>\n",
              "      <td>82.0</td>\n",
              "      <td>3,756</td>\n",
              "      <td>272.0</td>\n",
              "      <td>673</td>\n",
              "      <td>3,164</td>\n",
              "      <td>456.0</td>\n",
              "      <td>2,291</td>\n",
              "      <td>44.0</td>\n",
              "      <td>1,265</td>\n",
              "      <td>116.0</td>\n",
              "      <td>0.0</td>\n",
              "      <td>0.0</td>\n",
              "      <td>15</td>\n",
              "      <td>In House</td>\n",
              "      <td>others</td>\n",
              "      <td>no_fee</td>\n",
              "      <td>203.0</td>\n",
              "      <td>1.0</td>\n",
              "      <td>0.0</td>\n",
              "      <td>0.0</td>\n",
              "      <td>1.0</td>\n",
              "      <td>140,000</td>\n",
              "      <td>1.0</td>\n",
              "      <td>1.0</td>\n",
              "      <td>1.0</td>\n",
              "      <td>0.0</td>\n",
              "      <td>0.0</td>\n",
              "      <td>0.000</td>\n",
              "      <td>2,165</td>\n",
              "      <td>2,165</td>\n",
              "      <td>1300.0</td>\n",
              "      <td>0.0</td>\n",
              "      <td>7</td>\n",
              "      <td>1.0</td>\n",
              "      <td>0.044086</td>\n",
              "      <td>0.0877</td>\n",
              "      <td>2</td>\n",
              "      <td>24</td>\n",
              "      <td>2.0</td>\n",
              "      <td>-</td>\n",
              "      <td>0.0</td>\n",
              "    </tr>\n",
              "    <tr>\n",
              "      <th>2</th>\n",
              "      <td>550393.0</td>\n",
              "      <td>0.0</td>\n",
              "      <td>1.0</td>\n",
              "      <td>75.0</td>\n",
              "      <td>1.0</td>\n",
              "      <td>0.0</td>\n",
              "      <td>2,361</td>\n",
              "      <td>204.0</td>\n",
              "      <td>1,351</td>\n",
              "      <td>118.0</td>\n",
              "      <td>1,010</td>\n",
              "      <td>86.0</td>\n",
              "      <td>237</td>\n",
              "      <td>693</td>\n",
              "      <td>152.0</td>\n",
              "      <td>-</td>\n",
              "      <td>0.0</td>\n",
              "      <td>1,623</td>\n",
              "      <td>166.0</td>\n",
              "      <td>9.0</td>\n",
              "      <td>18.0</td>\n",
              "      <td>(20)</td>\n",
              "      <td>NaN</td>\n",
              "      <td>NaN</td>\n",
              "      <td>full_fee</td>\n",
              "      <td>201.0</td>\n",
              "      <td>1.0</td>\n",
              "      <td>0.0</td>\n",
              "      <td>0.0</td>\n",
              "      <td>1.0</td>\n",
              "      <td>32,800</td>\n",
              "      <td>0.0</td>\n",
              "      <td>0.0</td>\n",
              "      <td>0.0</td>\n",
              "      <td>0.0</td>\n",
              "      <td>0.0</td>\n",
              "      <td>0.000</td>\n",
              "      <td>703</td>\n",
              "      <td>687</td>\n",
              "      <td>1376.0</td>\n",
              "      <td>0.0</td>\n",
              "      <td>-</td>\n",
              "      <td>1.0</td>\n",
              "      <td>0.039613</td>\n",
              "      <td>0.0000</td>\n",
              "      <td>4,828</td>\n",
              "      <td>-</td>\n",
              "      <td>0.0</td>\n",
              "      <td>387</td>\n",
              "      <td>3.0</td>\n",
              "    </tr>\n",
              "    <tr>\n",
              "      <th>3</th>\n",
              "      <td>550394.0</td>\n",
              "      <td>0.0</td>\n",
              "      <td>2.0</td>\n",
              "      <td>73.0</td>\n",
              "      <td>0.0</td>\n",
              "      <td>1.0</td>\n",
              "      <td>5,452</td>\n",
              "      <td>142.0</td>\n",
              "      <td>1,195</td>\n",
              "      <td>50.0</td>\n",
              "      <td>4,257</td>\n",
              "      <td>92.0</td>\n",
              "      <td>803</td>\n",
              "      <td>1,618</td>\n",
              "      <td>64.0</td>\n",
              "      <td>2,760</td>\n",
              "      <td>54.0</td>\n",
              "      <td>1,605</td>\n",
              "      <td>54.0</td>\n",
              "      <td>9.0</td>\n",
              "      <td>23.0</td>\n",
              "      <td>30</td>\n",
              "      <td>NaN</td>\n",
              "      <td>NaN</td>\n",
              "      <td>full_fee</td>\n",
              "      <td>286.0</td>\n",
              "      <td>1.0</td>\n",
              "      <td>0.0</td>\n",
              "      <td>0.0</td>\n",
              "      <td>1.0</td>\n",
              "      <td>100,000</td>\n",
              "      <td>1.0</td>\n",
              "      <td>0.0</td>\n",
              "      <td>0.0</td>\n",
              "      <td>0.0</td>\n",
              "      <td>0.0</td>\n",
              "      <td>0.000</td>\n",
              "      <td>1,225</td>\n",
              "      <td>1,225</td>\n",
              "      <td>1372.0</td>\n",
              "      <td>1.0</td>\n",
              "      <td>493</td>\n",
              "      <td>1.0</td>\n",
              "      <td>0.001200</td>\n",
              "      <td>0.0000</td>\n",
              "      <td>4,598</td>\n",
              "      <td>-</td>\n",
              "      <td>0.0</td>\n",
              "      <td>295</td>\n",
              "      <td>4.0</td>\n",
              "    </tr>\n",
              "    <tr>\n",
              "      <th>4</th>\n",
              "      <td>550395.0</td>\n",
              "      <td>0.0</td>\n",
              "      <td>2.0</td>\n",
              "      <td>68.0</td>\n",
              "      <td>0.0</td>\n",
              "      <td>0.0</td>\n",
              "      <td>170</td>\n",
              "      <td>34.0</td>\n",
              "      <td>88</td>\n",
              "      <td>20.0</td>\n",
              "      <td>82</td>\n",
              "      <td>14.0</td>\n",
              "      <td>10</td>\n",
              "      <td>10</td>\n",
              "      <td>4.0</td>\n",
              "      <td>-</td>\n",
              "      <td>0.0</td>\n",
              "      <td>66</td>\n",
              "      <td>18.0</td>\n",
              "      <td>0.0</td>\n",
              "      <td>0.0</td>\n",
              "      <td>(9)</td>\n",
              "      <td>Affiliates</td>\n",
              "      <td>spillover</td>\n",
              "      <td>no_fee</td>\n",
              "      <td>123.0</td>\n",
              "      <td>1.0</td>\n",
              "      <td>0.0</td>\n",
              "      <td>0.0</td>\n",
              "      <td>1.0</td>\n",
              "      <td>20,800</td>\n",
              "      <td>1.0</td>\n",
              "      <td>0.0</td>\n",
              "      <td>0.0</td>\n",
              "      <td>0.0</td>\n",
              "      <td>0.0</td>\n",
              "      <td>0.001</td>\n",
              "      <td>51</td>\n",
              "      <td>35</td>\n",
              "      <td>1338.0</td>\n",
              "      <td>0.0</td>\n",
              "      <td>-</td>\n",
              "      <td>2.0</td>\n",
              "      <td>0.003378</td>\n",
              "      <td>0.0168</td>\n",
              "      <td>2,176</td>\n",
              "      <td>2,606</td>\n",
              "      <td>5.0</td>\n",
              "      <td>143</td>\n",
              "      <td>13.0</td>\n",
              "    </tr>\n",
              "    <tr>\n",
              "      <th>5</th>\n",
              "      <td>550396.0</td>\n",
              "      <td>0.0</td>\n",
              "      <td>2.0</td>\n",
              "      <td>73.0</td>\n",
              "      <td>1.0</td>\n",
              "      <td>1.0</td>\n",
              "      <td>46,428</td>\n",
              "      <td>644.0</td>\n",
              "      <td>5,108</td>\n",
              "      <td>116.0</td>\n",
              "      <td>41,323</td>\n",
              "      <td>528.0</td>\n",
              "      <td>12,620</td>\n",
              "      <td>28,522</td>\n",
              "      <td>820.0</td>\n",
              "      <td>8,155</td>\n",
              "      <td>108.0</td>\n",
              "      <td>34,480</td>\n",
              "      <td>460.0</td>\n",
              "      <td>0.0</td>\n",
              "      <td>0.0</td>\n",
              "      <td>1,146</td>\n",
              "      <td>NaN</td>\n",
              "      <td>NaN</td>\n",
              "      <td>full_fee</td>\n",
              "      <td>179.0</td>\n",
              "      <td>1.0</td>\n",
              "      <td>0.0</td>\n",
              "      <td>0.0</td>\n",
              "      <td>1.0</td>\n",
              "      <td>149,600</td>\n",
              "      <td>1.0</td>\n",
              "      <td>0.0</td>\n",
              "      <td>0.0</td>\n",
              "      <td>0.0</td>\n",
              "      <td>0.0</td>\n",
              "      <td>0.000</td>\n",
              "      <td>11,555</td>\n",
              "      <td>11,555</td>\n",
              "      <td>1255.0</td>\n",
              "      <td>0.0</td>\n",
              "      <td>-</td>\n",
              "      <td>1.0</td>\n",
              "      <td>0.207708</td>\n",
              "      <td>0.0000</td>\n",
              "      <td>-</td>\n",
              "      <td>-</td>\n",
              "      <td>0.0</td>\n",
              "      <td>-</td>\n",
              "      <td>0.0</td>\n",
              "    </tr>\n",
              "    <tr>\n",
              "      <th>6</th>\n",
              "      <td>550397.0</td>\n",
              "      <td>0.0</td>\n",
              "      <td>2.0</td>\n",
              "      <td>69.0</td>\n",
              "      <td>1.0</td>\n",
              "      <td>1.0</td>\n",
              "      <td>12,431</td>\n",
              "      <td>442.0</td>\n",
              "      <td>5,679</td>\n",
              "      <td>232.0</td>\n",
              "      <td>6,753</td>\n",
              "      <td>210.0</td>\n",
              "      <td>608</td>\n",
              "      <td>4,205</td>\n",
              "      <td>248.0</td>\n",
              "      <td>2,801</td>\n",
              "      <td>56.0</td>\n",
              "      <td>8,376</td>\n",
              "      <td>330.0</td>\n",
              "      <td>13.0</td>\n",
              "      <td>27.0</td>\n",
              "      <td>(75)</td>\n",
              "      <td>Unreferred</td>\n",
              "      <td>spillover</td>\n",
              "      <td>full_fee</td>\n",
              "      <td>280.0</td>\n",
              "      <td>1.0</td>\n",
              "      <td>0.0</td>\n",
              "      <td>0.0</td>\n",
              "      <td>1.0</td>\n",
              "      <td>58,800</td>\n",
              "      <td>1.0</td>\n",
              "      <td>0.0</td>\n",
              "      <td>0.0</td>\n",
              "      <td>0.0</td>\n",
              "      <td>0.0</td>\n",
              "      <td>0.000</td>\n",
              "      <td>3,316</td>\n",
              "      <td>3,316</td>\n",
              "      <td>1255.0</td>\n",
              "      <td>1.0</td>\n",
              "      <td>19</td>\n",
              "      <td>1.0</td>\n",
              "      <td>0.064085</td>\n",
              "      <td>0.3565</td>\n",
              "      <td>2,967</td>\n",
              "      <td>441</td>\n",
              "      <td>2.0</td>\n",
              "      <td>1,866</td>\n",
              "      <td>2.0</td>\n",
              "    </tr>\n",
              "    <tr>\n",
              "      <th>7</th>\n",
              "      <td>550398.0</td>\n",
              "      <td>1.0</td>\n",
              "      <td>2.0</td>\n",
              "      <td>58.0</td>\n",
              "      <td>0.0</td>\n",
              "      <td>0.0</td>\n",
              "      <td>22,606</td>\n",
              "      <td>472.0</td>\n",
              "      <td>10,796</td>\n",
              "      <td>182.0</td>\n",
              "      <td>11,812</td>\n",
              "      <td>290.0</td>\n",
              "      <td>332</td>\n",
              "      <td>4,155</td>\n",
              "      <td>352.0</td>\n",
              "      <td>1,673</td>\n",
              "      <td>80.0</td>\n",
              "      <td>17,909</td>\n",
              "      <td>312.0</td>\n",
              "      <td>15.0</td>\n",
              "      <td>93.0</td>\n",
              "      <td>(48)</td>\n",
              "      <td>Affiliates</td>\n",
              "      <td>spillover</td>\n",
              "      <td>full_fee</td>\n",
              "      <td>219.0</td>\n",
              "      <td>1.0</td>\n",
              "      <td>0.0</td>\n",
              "      <td>0.0</td>\n",
              "      <td>1.0</td>\n",
              "      <td>140,000</td>\n",
              "      <td>0.0</td>\n",
              "      <td>0.0</td>\n",
              "      <td>0.0</td>\n",
              "      <td>0.0</td>\n",
              "      <td>0.0</td>\n",
              "      <td>0.001</td>\n",
              "      <td>6,503</td>\n",
              "      <td>6,287</td>\n",
              "      <td>1239.0</td>\n",
              "      <td>0.0</td>\n",
              "      <td>-</td>\n",
              "      <td>2.0</td>\n",
              "      <td>0.143371</td>\n",
              "      <td>0.0000</td>\n",
              "      <td>73,575</td>\n",
              "      <td>-</td>\n",
              "      <td>0.0</td>\n",
              "      <td>5,833</td>\n",
              "      <td>6.0</td>\n",
              "    </tr>\n",
              "    <tr>\n",
              "      <th>8</th>\n",
              "      <td>550399.0</td>\n",
              "      <td>0.0</td>\n",
              "      <td>2.0</td>\n",
              "      <td>71.0</td>\n",
              "      <td>0.0</td>\n",
              "      <td>1.0</td>\n",
              "      <td>3,127</td>\n",
              "      <td>116.0</td>\n",
              "      <td>1,090</td>\n",
              "      <td>58.0</td>\n",
              "      <td>2,037</td>\n",
              "      <td>58.0</td>\n",
              "      <td>25</td>\n",
              "      <td>14</td>\n",
              "      <td>4.0</td>\n",
              "      <td>293</td>\n",
              "      <td>4.0</td>\n",
              "      <td>1,949</td>\n",
              "      <td>102.0</td>\n",
              "      <td>3.0</td>\n",
              "      <td>3.0</td>\n",
              "      <td>2</td>\n",
              "      <td>NaN</td>\n",
              "      <td>NaN</td>\n",
              "      <td>full_fee</td>\n",
              "      <td>461.0</td>\n",
              "      <td>1.0</td>\n",
              "      <td>0.0</td>\n",
              "      <td>0.0</td>\n",
              "      <td>0.0</td>\n",
              "      <td>-</td>\n",
              "      <td>1.0</td>\n",
              "      <td>0.0</td>\n",
              "      <td>0.0</td>\n",
              "      <td>0.0</td>\n",
              "      <td>0.0</td>\n",
              "      <td>0.000</td>\n",
              "      <td>1,267</td>\n",
              "      <td>1,267</td>\n",
              "      <td>1281.0</td>\n",
              "      <td>2.0</td>\n",
              "      <td>482</td>\n",
              "      <td>0.0</td>\n",
              "      <td>0.000000</td>\n",
              "      <td>0.0000</td>\n",
              "      <td>-</td>\n",
              "      <td>-</td>\n",
              "      <td>0.0</td>\n",
              "      <td>-</td>\n",
              "      <td>0.0</td>\n",
              "    </tr>\n",
              "    <tr>\n",
              "      <th>9</th>\n",
              "      <td>550400.0</td>\n",
              "      <td>0.0</td>\n",
              "      <td>1.0</td>\n",
              "      <td>68.0</td>\n",
              "      <td>0.0</td>\n",
              "      <td>1.0</td>\n",
              "      <td>2,770</td>\n",
              "      <td>258.0</td>\n",
              "      <td>901</td>\n",
              "      <td>90.0</td>\n",
              "      <td>1,869</td>\n",
              "      <td>168.0</td>\n",
              "      <td>617</td>\n",
              "      <td>788</td>\n",
              "      <td>184.0</td>\n",
              "      <td>893</td>\n",
              "      <td>26.0</td>\n",
              "      <td>1,103</td>\n",
              "      <td>160.0</td>\n",
              "      <td>5.0</td>\n",
              "      <td>5.0</td>\n",
              "      <td>185</td>\n",
              "      <td>NaN</td>\n",
              "      <td>NaN</td>\n",
              "      <td>full_fee</td>\n",
              "      <td>280.0</td>\n",
              "      <td>1.0</td>\n",
              "      <td>0.0</td>\n",
              "      <td>0.0</td>\n",
              "      <td>0.0</td>\n",
              "      <td>-</td>\n",
              "      <td>1.0</td>\n",
              "      <td>0.0</td>\n",
              "      <td>0.0</td>\n",
              "      <td>0.0</td>\n",
              "      <td>0.0</td>\n",
              "      <td>0.000</td>\n",
              "      <td>831</td>\n",
              "      <td>823</td>\n",
              "      <td>1376.0</td>\n",
              "      <td>1.0</td>\n",
              "      <td>421</td>\n",
              "      <td>0.0</td>\n",
              "      <td>0.000000</td>\n",
              "      <td>0.0000</td>\n",
              "      <td>9</td>\n",
              "      <td>-</td>\n",
              "      <td>0.0</td>\n",
              "      <td>-</td>\n",
              "      <td>2.0</td>\n",
              "    </tr>\n",
              "  </tbody>\n",
              "</table>\n",
              "</div>"
            ],
            "text/plain": [
              "    cust_id  profitable_flag  ...  sow_tot_trans_bal_amt  sow_tot_trans_cnt\n",
              "0  550391.0              0.0  ...                   -                   3.0\n",
              "1  550392.0              0.0  ...                   -                   0.0\n",
              "2  550393.0              0.0  ...                   387                 3.0\n",
              "3  550394.0              0.0  ...                   295                 4.0\n",
              "4  550395.0              0.0  ...                   143                13.0\n",
              "5  550396.0              0.0  ...                   -                   0.0\n",
              "6  550397.0              0.0  ...                 1,866                 2.0\n",
              "7  550398.0              1.0  ...                 5,833                 6.0\n",
              "8  550399.0              0.0  ...                   -                   0.0\n",
              "9  550400.0              0.0  ...                   -                   2.0\n",
              "\n",
              "[10 rows x 50 columns]"
            ]
          },
          "metadata": {
            "tags": []
          },
          "execution_count": 92
        }
      ]
    },
    {
      "cell_type": "code",
      "metadata": {
        "id": "UJ2j7lq4tbfv",
        "colab": {
          "base_uri": "https://localhost:8080/"
        },
        "outputId": "a04f47e5-7308-48f8-c240-fe9790d0be30"
      },
      "source": [
        "print(train_data.shape)"
      ],
      "execution_count": null,
      "outputs": [
        {
          "output_type": "stream",
          "text": [
            "(19599, 50)\n"
          ],
          "name": "stdout"
        }
      ]
    },
    {
      "cell_type": "markdown",
      "metadata": {
        "id": "G2XN1c8fxE0a"
      },
      "source": [
        "## **Preprocessing and Cleaning**"
      ]
    },
    {
      "cell_type": "code",
      "metadata": {
        "id": "SROdvaf7x61O"
      },
      "source": [
        "# Replacing brackets for train data\n",
        "train_data['pre6m_total_mc_trs'] = (train_data['pre6m_total_mc_trs'].str.replace(r\"\\(\",\"\")).str.replace(r\"\\)\",\"\")"
      ],
      "execution_count": null,
      "outputs": []
    },
    {
      "cell_type": "code",
      "metadata": {
        "id": "bLfCI45FGu6f"
      },
      "source": [
        "# Replacing brackets for test data\n",
        "test_data['pre6m_total_mc_trs'] = (test_data['pre6m_total_mc_trs'].str.replace(r\"\\(\",\"\")).str.replace(r\"\\)\",\"\")"
      ],
      "execution_count": null,
      "outputs": []
    },
    {
      "cell_type": "code",
      "metadata": {
        "id": "1xsMjG4c9_vj"
      },
      "source": [
        "# Dropping the unnecessary cols from train\n",
        "train_data = train_data.drop(columns=['acq_sub_chn','acq_type_grp','fee_type_grp'])"
      ],
      "execution_count": null,
      "outputs": []
    },
    {
      "cell_type": "code",
      "metadata": {
        "id": "rQD_99tTHQlk"
      },
      "source": [
        "# Dropping the channel of acquition of the first card by customer for test data\n",
        "test_data = test_data.drop(columns=['acq_sub_chn','acq_type_grp','fee_type_grp'])"
      ],
      "execution_count": null,
      "outputs": []
    },
    {
      "cell_type": "code",
      "metadata": {
        "id": "_W-4d928IZMZ"
      },
      "source": [
        "# processing numeric columns for train data\n",
        "cols = ['pre6m_cust_spend','pre6m_cust_non_disc_amt','pre6m_cust_disc_amt','pre6m_cust_outbound_amt','pre6m_cust_online_amt',\n",
        "        'pre6m_cust_travel_amt','pre6m_cust_retail_amt','pre6m_total_mc_trs','sum_total_line_amt','cust_max_credit_12m_amt','cust_max_remit_12m_amt',\n",
        "        'cnsumr_chrg_avg_credit_12m_amt','sow_tot_annual_ext_pmt_amt','sow_tot_revol_bal_amt','sow_tot_trans_bal_amt']\n",
        "\n",
        "for col in cols:\n",
        "  train_data[col] = train_data[col].str.replace(r\",\",\"\") "
      ],
      "execution_count": null,
      "outputs": []
    },
    {
      "cell_type": "code",
      "metadata": {
        "id": "JN93ozIhHwYp"
      },
      "source": [
        "# processing numeric columns for test data\n",
        "cols = ['pre6m_cust_spend','pre6m_cust_non_disc_amt','pre6m_cust_disc_amt','pre6m_cust_outbound_amt','pre6m_cust_online_amt',\n",
        "        'pre6m_cust_travel_amt','pre6m_cust_retail_amt','pre6m_total_mc_trs','sum_total_line_amt','cust_max_credit_12m_amt','cust_max_remit_12m_amt',\n",
        "        'cnsumr_chrg_avg_credit_12m_amt','sow_tot_annual_ext_pmt_amt','sow_tot_revol_bal_amt','sow_tot_trans_bal_amt']\n",
        "\n",
        "for col in cols:\n",
        "  test_data[col] = test_data[col].str.replace(r\",\",\"\")"
      ],
      "execution_count": null,
      "outputs": []
    },
    {
      "cell_type": "code",
      "metadata": {
        "id": "pnLtez4RLzVU"
      },
      "source": [
        "# Converting dataframe to numeric cols for train data\n",
        "for col in train_data.columns:\n",
        "  train_data[col] = pd.to_numeric(train_data[col], errors='coerce')"
      ],
      "execution_count": null,
      "outputs": []
    },
    {
      "cell_type": "code",
      "metadata": {
        "id": "jvTW4LtGH8Au"
      },
      "source": [
        "# Converting dataframe to numeric cols for test data\n",
        "for col in test_data.columns:\n",
        "  test_data[col] = pd.to_numeric(test_data[col], errors='coerce')"
      ],
      "execution_count": null,
      "outputs": []
    },
    {
      "cell_type": "code",
      "metadata": {
        "id": "BZwybZRs-gVu",
        "colab": {
          "base_uri": "https://localhost:8080/",
          "height": 430
        },
        "outputId": "111a81e7-19c9-4aef-fc4d-4bb7db26e3cc"
      },
      "source": [
        "train_data.head(10)"
      ],
      "execution_count": null,
      "outputs": [
        {
          "output_type": "execute_result",
          "data": {
            "text/html": [
              "<div>\n",
              "<style scoped>\n",
              "    .dataframe tbody tr th:only-of-type {\n",
              "        vertical-align: middle;\n",
              "    }\n",
              "\n",
              "    .dataframe tbody tr th {\n",
              "        vertical-align: top;\n",
              "    }\n",
              "\n",
              "    .dataframe thead th {\n",
              "        text-align: right;\n",
              "    }\n",
              "</style>\n",
              "<table border=\"1\" class=\"dataframe\">\n",
              "  <thead>\n",
              "    <tr style=\"text-align: right;\">\n",
              "      <th></th>\n",
              "      <th>cust_id</th>\n",
              "      <th>profitable_flag</th>\n",
              "      <th>count_accts</th>\n",
              "      <th>cm_age</th>\n",
              "      <th>flag_top_ed_spender</th>\n",
              "      <th>flag_cust_fee_paid_6m</th>\n",
              "      <th>pre6m_cust_spend</th>\n",
              "      <th>pre6m_cust_roc_cnt</th>\n",
              "      <th>pre6m_cust_non_disc_amt</th>\n",
              "      <th>pre6m_cust_non_disc_cnt</th>\n",
              "      <th>pre6m_cust_disc_amt</th>\n",
              "      <th>pre6m_cust_disc_cnt</th>\n",
              "      <th>pre6m_cust_outbound_amt</th>\n",
              "      <th>pre6m_cust_online_amt</th>\n",
              "      <th>pre6m_cust_online_cnt</th>\n",
              "      <th>pre6m_cust_travel_amt</th>\n",
              "      <th>pre6m_cust_travel_cnt</th>\n",
              "      <th>pre6m_cust_retail_amt</th>\n",
              "      <th>pre6m_cust_retail_cnt</th>\n",
              "      <th>pre6m_cust_myca_active</th>\n",
              "      <th>pre6m_cust_mob_logins</th>\n",
              "      <th>pre6m_total_mc_trs</th>\n",
              "      <th>Cust_tenure</th>\n",
              "      <th>pre6m_spend_active_ind</th>\n",
              "      <th>highly_utilized_ind</th>\n",
              "      <th>min_pay_ind</th>\n",
              "      <th>paid_in_full_ind</th>\n",
              "      <th>sum_total_line_amt</th>\n",
              "      <th>direct_debit_ind</th>\n",
              "      <th>referrals</th>\n",
              "      <th>spillover</th>\n",
              "      <th>self_accts</th>\n",
              "      <th>Customer Low Quality indicator</th>\n",
              "      <th>cdss_most_rcnt_prob</th>\n",
              "      <th>cust_max_credit_12m_amt</th>\n",
              "      <th>cust_max_remit_12m_amt</th>\n",
              "      <th>cbr_3_score</th>\n",
              "      <th>cnsumr_chrg_actv_cust_cnt</th>\n",
              "      <th>cnsumr_chrg_avg_credit_12m_amt</th>\n",
              "      <th>cnsumr_lend_actv_cust_cnt</th>\n",
              "      <th>cnsumr_lend_tot_util_ratio</th>\n",
              "      <th>sow_revol_avg_paydown_pct</th>\n",
              "      <th>sow_tot_annual_ext_pmt_amt</th>\n",
              "      <th>sow_tot_revol_bal_amt</th>\n",
              "      <th>sow_tot_revol_cnt</th>\n",
              "      <th>sow_tot_trans_bal_amt</th>\n",
              "      <th>sow_tot_trans_cnt</th>\n",
              "    </tr>\n",
              "  </thead>\n",
              "  <tbody>\n",
              "    <tr>\n",
              "      <th>0</th>\n",
              "      <td>550391.0</td>\n",
              "      <td>0.0</td>\n",
              "      <td>1.0</td>\n",
              "      <td>74.0</td>\n",
              "      <td>1.0</td>\n",
              "      <td>0.0</td>\n",
              "      <td>1518.0</td>\n",
              "      <td>122.0</td>\n",
              "      <td>811.0</td>\n",
              "      <td>96.0</td>\n",
              "      <td>707.0</td>\n",
              "      <td>26.0</td>\n",
              "      <td>NaN</td>\n",
              "      <td>606.0</td>\n",
              "      <td>36.0</td>\n",
              "      <td>28.0</td>\n",
              "      <td>2.0</td>\n",
              "      <td>814.0</td>\n",
              "      <td>98.0</td>\n",
              "      <td>9.0</td>\n",
              "      <td>203.0</td>\n",
              "      <td>2.0</td>\n",
              "      <td>63.0</td>\n",
              "      <td>1.0</td>\n",
              "      <td>0.0</td>\n",
              "      <td>0.0</td>\n",
              "      <td>1.0</td>\n",
              "      <td>80000.0</td>\n",
              "      <td>1.0</td>\n",
              "      <td>1.0</td>\n",
              "      <td>0.0</td>\n",
              "      <td>0.0</td>\n",
              "      <td>0.0</td>\n",
              "      <td>0.000</td>\n",
              "      <td>482.0</td>\n",
              "      <td>418.0</td>\n",
              "      <td>1376.0</td>\n",
              "      <td>0.0</td>\n",
              "      <td>NaN</td>\n",
              "      <td>1.0</td>\n",
              "      <td>0.034044</td>\n",
              "      <td>0.0000</td>\n",
              "      <td>991.0</td>\n",
              "      <td>NaN</td>\n",
              "      <td>0.0</td>\n",
              "      <td>NaN</td>\n",
              "      <td>3.0</td>\n",
              "    </tr>\n",
              "    <tr>\n",
              "      <th>1</th>\n",
              "      <td>550392.0</td>\n",
              "      <td>0.0</td>\n",
              "      <td>1.0</td>\n",
              "      <td>64.0</td>\n",
              "      <td>0.0</td>\n",
              "      <td>0.0</td>\n",
              "      <td>4807.0</td>\n",
              "      <td>354.0</td>\n",
              "      <td>1052.0</td>\n",
              "      <td>82.0</td>\n",
              "      <td>3756.0</td>\n",
              "      <td>272.0</td>\n",
              "      <td>673.0</td>\n",
              "      <td>3164.0</td>\n",
              "      <td>456.0</td>\n",
              "      <td>2291.0</td>\n",
              "      <td>44.0</td>\n",
              "      <td>1265.0</td>\n",
              "      <td>116.0</td>\n",
              "      <td>0.0</td>\n",
              "      <td>0.0</td>\n",
              "      <td>15.0</td>\n",
              "      <td>203.0</td>\n",
              "      <td>1.0</td>\n",
              "      <td>0.0</td>\n",
              "      <td>0.0</td>\n",
              "      <td>1.0</td>\n",
              "      <td>140000.0</td>\n",
              "      <td>1.0</td>\n",
              "      <td>1.0</td>\n",
              "      <td>1.0</td>\n",
              "      <td>0.0</td>\n",
              "      <td>0.0</td>\n",
              "      <td>0.000</td>\n",
              "      <td>2165.0</td>\n",
              "      <td>2165.0</td>\n",
              "      <td>1300.0</td>\n",
              "      <td>0.0</td>\n",
              "      <td>7.0</td>\n",
              "      <td>1.0</td>\n",
              "      <td>0.044086</td>\n",
              "      <td>0.0877</td>\n",
              "      <td>2.0</td>\n",
              "      <td>24.0</td>\n",
              "      <td>2.0</td>\n",
              "      <td>NaN</td>\n",
              "      <td>0.0</td>\n",
              "    </tr>\n",
              "    <tr>\n",
              "      <th>2</th>\n",
              "      <td>550393.0</td>\n",
              "      <td>0.0</td>\n",
              "      <td>1.0</td>\n",
              "      <td>75.0</td>\n",
              "      <td>1.0</td>\n",
              "      <td>0.0</td>\n",
              "      <td>2361.0</td>\n",
              "      <td>204.0</td>\n",
              "      <td>1351.0</td>\n",
              "      <td>118.0</td>\n",
              "      <td>1010.0</td>\n",
              "      <td>86.0</td>\n",
              "      <td>237.0</td>\n",
              "      <td>693.0</td>\n",
              "      <td>152.0</td>\n",
              "      <td>NaN</td>\n",
              "      <td>0.0</td>\n",
              "      <td>1623.0</td>\n",
              "      <td>166.0</td>\n",
              "      <td>9.0</td>\n",
              "      <td>18.0</td>\n",
              "      <td>20.0</td>\n",
              "      <td>201.0</td>\n",
              "      <td>1.0</td>\n",
              "      <td>0.0</td>\n",
              "      <td>0.0</td>\n",
              "      <td>1.0</td>\n",
              "      <td>32800.0</td>\n",
              "      <td>0.0</td>\n",
              "      <td>0.0</td>\n",
              "      <td>0.0</td>\n",
              "      <td>0.0</td>\n",
              "      <td>0.0</td>\n",
              "      <td>0.000</td>\n",
              "      <td>703.0</td>\n",
              "      <td>687.0</td>\n",
              "      <td>1376.0</td>\n",
              "      <td>0.0</td>\n",
              "      <td>NaN</td>\n",
              "      <td>1.0</td>\n",
              "      <td>0.039613</td>\n",
              "      <td>0.0000</td>\n",
              "      <td>4828.0</td>\n",
              "      <td>NaN</td>\n",
              "      <td>0.0</td>\n",
              "      <td>387.0</td>\n",
              "      <td>3.0</td>\n",
              "    </tr>\n",
              "    <tr>\n",
              "      <th>3</th>\n",
              "      <td>550394.0</td>\n",
              "      <td>0.0</td>\n",
              "      <td>2.0</td>\n",
              "      <td>73.0</td>\n",
              "      <td>0.0</td>\n",
              "      <td>1.0</td>\n",
              "      <td>5452.0</td>\n",
              "      <td>142.0</td>\n",
              "      <td>1195.0</td>\n",
              "      <td>50.0</td>\n",
              "      <td>4257.0</td>\n",
              "      <td>92.0</td>\n",
              "      <td>803.0</td>\n",
              "      <td>1618.0</td>\n",
              "      <td>64.0</td>\n",
              "      <td>2760.0</td>\n",
              "      <td>54.0</td>\n",
              "      <td>1605.0</td>\n",
              "      <td>54.0</td>\n",
              "      <td>9.0</td>\n",
              "      <td>23.0</td>\n",
              "      <td>30.0</td>\n",
              "      <td>286.0</td>\n",
              "      <td>1.0</td>\n",
              "      <td>0.0</td>\n",
              "      <td>0.0</td>\n",
              "      <td>1.0</td>\n",
              "      <td>100000.0</td>\n",
              "      <td>1.0</td>\n",
              "      <td>0.0</td>\n",
              "      <td>0.0</td>\n",
              "      <td>0.0</td>\n",
              "      <td>0.0</td>\n",
              "      <td>0.000</td>\n",
              "      <td>1225.0</td>\n",
              "      <td>1225.0</td>\n",
              "      <td>1372.0</td>\n",
              "      <td>1.0</td>\n",
              "      <td>493.0</td>\n",
              "      <td>1.0</td>\n",
              "      <td>0.001200</td>\n",
              "      <td>0.0000</td>\n",
              "      <td>4598.0</td>\n",
              "      <td>NaN</td>\n",
              "      <td>0.0</td>\n",
              "      <td>295.0</td>\n",
              "      <td>4.0</td>\n",
              "    </tr>\n",
              "    <tr>\n",
              "      <th>4</th>\n",
              "      <td>550395.0</td>\n",
              "      <td>0.0</td>\n",
              "      <td>2.0</td>\n",
              "      <td>68.0</td>\n",
              "      <td>0.0</td>\n",
              "      <td>0.0</td>\n",
              "      <td>170.0</td>\n",
              "      <td>34.0</td>\n",
              "      <td>88.0</td>\n",
              "      <td>20.0</td>\n",
              "      <td>82.0</td>\n",
              "      <td>14.0</td>\n",
              "      <td>10.0</td>\n",
              "      <td>10.0</td>\n",
              "      <td>4.0</td>\n",
              "      <td>NaN</td>\n",
              "      <td>0.0</td>\n",
              "      <td>66.0</td>\n",
              "      <td>18.0</td>\n",
              "      <td>0.0</td>\n",
              "      <td>0.0</td>\n",
              "      <td>9.0</td>\n",
              "      <td>123.0</td>\n",
              "      <td>1.0</td>\n",
              "      <td>0.0</td>\n",
              "      <td>0.0</td>\n",
              "      <td>1.0</td>\n",
              "      <td>20800.0</td>\n",
              "      <td>1.0</td>\n",
              "      <td>0.0</td>\n",
              "      <td>0.0</td>\n",
              "      <td>0.0</td>\n",
              "      <td>0.0</td>\n",
              "      <td>0.001</td>\n",
              "      <td>51.0</td>\n",
              "      <td>35.0</td>\n",
              "      <td>1338.0</td>\n",
              "      <td>0.0</td>\n",
              "      <td>NaN</td>\n",
              "      <td>2.0</td>\n",
              "      <td>0.003378</td>\n",
              "      <td>0.0168</td>\n",
              "      <td>2176.0</td>\n",
              "      <td>2606.0</td>\n",
              "      <td>5.0</td>\n",
              "      <td>143.0</td>\n",
              "      <td>13.0</td>\n",
              "    </tr>\n",
              "    <tr>\n",
              "      <th>5</th>\n",
              "      <td>550396.0</td>\n",
              "      <td>0.0</td>\n",
              "      <td>2.0</td>\n",
              "      <td>73.0</td>\n",
              "      <td>1.0</td>\n",
              "      <td>1.0</td>\n",
              "      <td>46428.0</td>\n",
              "      <td>644.0</td>\n",
              "      <td>5108.0</td>\n",
              "      <td>116.0</td>\n",
              "      <td>41323.0</td>\n",
              "      <td>528.0</td>\n",
              "      <td>12620.0</td>\n",
              "      <td>28522.0</td>\n",
              "      <td>820.0</td>\n",
              "      <td>8155.0</td>\n",
              "      <td>108.0</td>\n",
              "      <td>34480.0</td>\n",
              "      <td>460.0</td>\n",
              "      <td>0.0</td>\n",
              "      <td>0.0</td>\n",
              "      <td>1146.0</td>\n",
              "      <td>179.0</td>\n",
              "      <td>1.0</td>\n",
              "      <td>0.0</td>\n",
              "      <td>0.0</td>\n",
              "      <td>1.0</td>\n",
              "      <td>149600.0</td>\n",
              "      <td>1.0</td>\n",
              "      <td>0.0</td>\n",
              "      <td>0.0</td>\n",
              "      <td>0.0</td>\n",
              "      <td>0.0</td>\n",
              "      <td>0.000</td>\n",
              "      <td>11555.0</td>\n",
              "      <td>11555.0</td>\n",
              "      <td>1255.0</td>\n",
              "      <td>0.0</td>\n",
              "      <td>NaN</td>\n",
              "      <td>1.0</td>\n",
              "      <td>0.207708</td>\n",
              "      <td>0.0000</td>\n",
              "      <td>NaN</td>\n",
              "      <td>NaN</td>\n",
              "      <td>0.0</td>\n",
              "      <td>NaN</td>\n",
              "      <td>0.0</td>\n",
              "    </tr>\n",
              "    <tr>\n",
              "      <th>6</th>\n",
              "      <td>550397.0</td>\n",
              "      <td>0.0</td>\n",
              "      <td>2.0</td>\n",
              "      <td>69.0</td>\n",
              "      <td>1.0</td>\n",
              "      <td>1.0</td>\n",
              "      <td>12431.0</td>\n",
              "      <td>442.0</td>\n",
              "      <td>5679.0</td>\n",
              "      <td>232.0</td>\n",
              "      <td>6753.0</td>\n",
              "      <td>210.0</td>\n",
              "      <td>608.0</td>\n",
              "      <td>4205.0</td>\n",
              "      <td>248.0</td>\n",
              "      <td>2801.0</td>\n",
              "      <td>56.0</td>\n",
              "      <td>8376.0</td>\n",
              "      <td>330.0</td>\n",
              "      <td>13.0</td>\n",
              "      <td>27.0</td>\n",
              "      <td>75.0</td>\n",
              "      <td>280.0</td>\n",
              "      <td>1.0</td>\n",
              "      <td>0.0</td>\n",
              "      <td>0.0</td>\n",
              "      <td>1.0</td>\n",
              "      <td>58800.0</td>\n",
              "      <td>1.0</td>\n",
              "      <td>0.0</td>\n",
              "      <td>0.0</td>\n",
              "      <td>0.0</td>\n",
              "      <td>0.0</td>\n",
              "      <td>0.000</td>\n",
              "      <td>3316.0</td>\n",
              "      <td>3316.0</td>\n",
              "      <td>1255.0</td>\n",
              "      <td>1.0</td>\n",
              "      <td>19.0</td>\n",
              "      <td>1.0</td>\n",
              "      <td>0.064085</td>\n",
              "      <td>0.3565</td>\n",
              "      <td>2967.0</td>\n",
              "      <td>441.0</td>\n",
              "      <td>2.0</td>\n",
              "      <td>1866.0</td>\n",
              "      <td>2.0</td>\n",
              "    </tr>\n",
              "    <tr>\n",
              "      <th>7</th>\n",
              "      <td>550398.0</td>\n",
              "      <td>1.0</td>\n",
              "      <td>2.0</td>\n",
              "      <td>58.0</td>\n",
              "      <td>0.0</td>\n",
              "      <td>0.0</td>\n",
              "      <td>22606.0</td>\n",
              "      <td>472.0</td>\n",
              "      <td>10796.0</td>\n",
              "      <td>182.0</td>\n",
              "      <td>11812.0</td>\n",
              "      <td>290.0</td>\n",
              "      <td>332.0</td>\n",
              "      <td>4155.0</td>\n",
              "      <td>352.0</td>\n",
              "      <td>1673.0</td>\n",
              "      <td>80.0</td>\n",
              "      <td>17909.0</td>\n",
              "      <td>312.0</td>\n",
              "      <td>15.0</td>\n",
              "      <td>93.0</td>\n",
              "      <td>48.0</td>\n",
              "      <td>219.0</td>\n",
              "      <td>1.0</td>\n",
              "      <td>0.0</td>\n",
              "      <td>0.0</td>\n",
              "      <td>1.0</td>\n",
              "      <td>140000.0</td>\n",
              "      <td>0.0</td>\n",
              "      <td>0.0</td>\n",
              "      <td>0.0</td>\n",
              "      <td>0.0</td>\n",
              "      <td>0.0</td>\n",
              "      <td>0.001</td>\n",
              "      <td>6503.0</td>\n",
              "      <td>6287.0</td>\n",
              "      <td>1239.0</td>\n",
              "      <td>0.0</td>\n",
              "      <td>NaN</td>\n",
              "      <td>2.0</td>\n",
              "      <td>0.143371</td>\n",
              "      <td>0.0000</td>\n",
              "      <td>73575.0</td>\n",
              "      <td>NaN</td>\n",
              "      <td>0.0</td>\n",
              "      <td>5833.0</td>\n",
              "      <td>6.0</td>\n",
              "    </tr>\n",
              "    <tr>\n",
              "      <th>8</th>\n",
              "      <td>550399.0</td>\n",
              "      <td>0.0</td>\n",
              "      <td>2.0</td>\n",
              "      <td>71.0</td>\n",
              "      <td>0.0</td>\n",
              "      <td>1.0</td>\n",
              "      <td>3127.0</td>\n",
              "      <td>116.0</td>\n",
              "      <td>1090.0</td>\n",
              "      <td>58.0</td>\n",
              "      <td>2037.0</td>\n",
              "      <td>58.0</td>\n",
              "      <td>25.0</td>\n",
              "      <td>14.0</td>\n",
              "      <td>4.0</td>\n",
              "      <td>293.0</td>\n",
              "      <td>4.0</td>\n",
              "      <td>1949.0</td>\n",
              "      <td>102.0</td>\n",
              "      <td>3.0</td>\n",
              "      <td>3.0</td>\n",
              "      <td>2.0</td>\n",
              "      <td>461.0</td>\n",
              "      <td>1.0</td>\n",
              "      <td>0.0</td>\n",
              "      <td>0.0</td>\n",
              "      <td>0.0</td>\n",
              "      <td>NaN</td>\n",
              "      <td>1.0</td>\n",
              "      <td>0.0</td>\n",
              "      <td>0.0</td>\n",
              "      <td>0.0</td>\n",
              "      <td>0.0</td>\n",
              "      <td>0.000</td>\n",
              "      <td>1267.0</td>\n",
              "      <td>1267.0</td>\n",
              "      <td>1281.0</td>\n",
              "      <td>2.0</td>\n",
              "      <td>482.0</td>\n",
              "      <td>0.0</td>\n",
              "      <td>0.000000</td>\n",
              "      <td>0.0000</td>\n",
              "      <td>NaN</td>\n",
              "      <td>NaN</td>\n",
              "      <td>0.0</td>\n",
              "      <td>NaN</td>\n",
              "      <td>0.0</td>\n",
              "    </tr>\n",
              "    <tr>\n",
              "      <th>9</th>\n",
              "      <td>550400.0</td>\n",
              "      <td>0.0</td>\n",
              "      <td>1.0</td>\n",
              "      <td>68.0</td>\n",
              "      <td>0.0</td>\n",
              "      <td>1.0</td>\n",
              "      <td>2770.0</td>\n",
              "      <td>258.0</td>\n",
              "      <td>901.0</td>\n",
              "      <td>90.0</td>\n",
              "      <td>1869.0</td>\n",
              "      <td>168.0</td>\n",
              "      <td>617.0</td>\n",
              "      <td>788.0</td>\n",
              "      <td>184.0</td>\n",
              "      <td>893.0</td>\n",
              "      <td>26.0</td>\n",
              "      <td>1103.0</td>\n",
              "      <td>160.0</td>\n",
              "      <td>5.0</td>\n",
              "      <td>5.0</td>\n",
              "      <td>185.0</td>\n",
              "      <td>280.0</td>\n",
              "      <td>1.0</td>\n",
              "      <td>0.0</td>\n",
              "      <td>0.0</td>\n",
              "      <td>0.0</td>\n",
              "      <td>NaN</td>\n",
              "      <td>1.0</td>\n",
              "      <td>0.0</td>\n",
              "      <td>0.0</td>\n",
              "      <td>0.0</td>\n",
              "      <td>0.0</td>\n",
              "      <td>0.000</td>\n",
              "      <td>831.0</td>\n",
              "      <td>823.0</td>\n",
              "      <td>1376.0</td>\n",
              "      <td>1.0</td>\n",
              "      <td>421.0</td>\n",
              "      <td>0.0</td>\n",
              "      <td>0.000000</td>\n",
              "      <td>0.0000</td>\n",
              "      <td>9.0</td>\n",
              "      <td>NaN</td>\n",
              "      <td>0.0</td>\n",
              "      <td>NaN</td>\n",
              "      <td>2.0</td>\n",
              "    </tr>\n",
              "  </tbody>\n",
              "</table>\n",
              "</div>"
            ],
            "text/plain": [
              "    cust_id  profitable_flag  ...  sow_tot_trans_bal_amt  sow_tot_trans_cnt\n",
              "0  550391.0              0.0  ...                    NaN                3.0\n",
              "1  550392.0              0.0  ...                    NaN                0.0\n",
              "2  550393.0              0.0  ...                  387.0                3.0\n",
              "3  550394.0              0.0  ...                  295.0                4.0\n",
              "4  550395.0              0.0  ...                  143.0               13.0\n",
              "5  550396.0              0.0  ...                    NaN                0.0\n",
              "6  550397.0              0.0  ...                 1866.0                2.0\n",
              "7  550398.0              1.0  ...                 5833.0                6.0\n",
              "8  550399.0              0.0  ...                    NaN                0.0\n",
              "9  550400.0              0.0  ...                    NaN                2.0\n",
              "\n",
              "[10 rows x 47 columns]"
            ]
          },
          "metadata": {
            "tags": []
          },
          "execution_count": 102
        }
      ]
    },
    {
      "cell_type": "code",
      "metadata": {
        "id": "Uw3XxKnIIFyt",
        "colab": {
          "base_uri": "https://localhost:8080/",
          "height": 430
        },
        "outputId": "f228a69b-ee50-4891-f7c7-37928e36a827"
      },
      "source": [
        "test_data.head(10)"
      ],
      "execution_count": null,
      "outputs": [
        {
          "output_type": "execute_result",
          "data": {
            "text/html": [
              "<div>\n",
              "<style scoped>\n",
              "    .dataframe tbody tr th:only-of-type {\n",
              "        vertical-align: middle;\n",
              "    }\n",
              "\n",
              "    .dataframe tbody tr th {\n",
              "        vertical-align: top;\n",
              "    }\n",
              "\n",
              "    .dataframe thead th {\n",
              "        text-align: right;\n",
              "    }\n",
              "</style>\n",
              "<table border=\"1\" class=\"dataframe\">\n",
              "  <thead>\n",
              "    <tr style=\"text-align: right;\">\n",
              "      <th></th>\n",
              "      <th>cust_id</th>\n",
              "      <th>count_accts</th>\n",
              "      <th>cm_age</th>\n",
              "      <th>flag_top_ed_spender</th>\n",
              "      <th>flag_cust_fee_paid_6m</th>\n",
              "      <th>pre6m_cust_spend</th>\n",
              "      <th>pre6m_cust_roc_cnt</th>\n",
              "      <th>pre6m_cust_non_disc_amt</th>\n",
              "      <th>pre6m_cust_non_disc_cnt</th>\n",
              "      <th>pre6m_cust_disc_amt</th>\n",
              "      <th>pre6m_cust_disc_cnt</th>\n",
              "      <th>pre6m_cust_outbound_amt</th>\n",
              "      <th>pre6m_cust_online_amt</th>\n",
              "      <th>pre6m_cust_online_cnt</th>\n",
              "      <th>pre6m_cust_travel_amt</th>\n",
              "      <th>pre6m_cust_travel_cnt</th>\n",
              "      <th>pre6m_cust_retail_amt</th>\n",
              "      <th>pre6m_cust_retail_cnt</th>\n",
              "      <th>pre6m_cust_myca_active</th>\n",
              "      <th>pre6m_cust_mob_logins</th>\n",
              "      <th>pre6m_total_mc_trs</th>\n",
              "      <th>Cust_tenure</th>\n",
              "      <th>pre6m_spend_active_ind</th>\n",
              "      <th>highly_utilized_ind</th>\n",
              "      <th>min_pay_ind</th>\n",
              "      <th>paid_in_full_ind</th>\n",
              "      <th>sum_total_line_amt</th>\n",
              "      <th>direct_debit_ind</th>\n",
              "      <th>referrals</th>\n",
              "      <th>spillover</th>\n",
              "      <th>self_accts</th>\n",
              "      <th>Customer Low Quality indicator</th>\n",
              "      <th>cdss_most_rcnt_prob</th>\n",
              "      <th>cust_max_credit_12m_amt</th>\n",
              "      <th>cust_max_remit_12m_amt</th>\n",
              "      <th>cbr_3_score</th>\n",
              "      <th>cnsumr_chrg_actv_cust_cnt</th>\n",
              "      <th>cnsumr_chrg_avg_credit_12m_amt</th>\n",
              "      <th>cnsumr_lend_actv_cust_cnt</th>\n",
              "      <th>cnsumr_lend_tot_util_ratio</th>\n",
              "      <th>sow_revol_avg_paydown_pct</th>\n",
              "      <th>sow_tot_annual_ext_pmt_amt</th>\n",
              "      <th>sow_tot_revol_bal_amt</th>\n",
              "      <th>sow_tot_revol_cnt</th>\n",
              "      <th>sow_tot_trans_bal_amt</th>\n",
              "      <th>sow_tot_trans_cnt</th>\n",
              "    </tr>\n",
              "  </thead>\n",
              "  <tbody>\n",
              "    <tr>\n",
              "      <th>0</th>\n",
              "      <td>569986</td>\n",
              "      <td>1</td>\n",
              "      <td>37</td>\n",
              "      <td>0.0</td>\n",
              "      <td>0</td>\n",
              "      <td>9868.0</td>\n",
              "      <td>760</td>\n",
              "      <td>777.0</td>\n",
              "      <td>174</td>\n",
              "      <td>9091.0</td>\n",
              "      <td>586</td>\n",
              "      <td>1705.0</td>\n",
              "      <td>2286.0</td>\n",
              "      <td>280</td>\n",
              "      <td>3219.0</td>\n",
              "      <td>268</td>\n",
              "      <td>2668.0</td>\n",
              "      <td>240</td>\n",
              "      <td>5</td>\n",
              "      <td>9</td>\n",
              "      <td>474</td>\n",
              "      <td>10.0</td>\n",
              "      <td>1.0</td>\n",
              "      <td>1.0</td>\n",
              "      <td>0.0</td>\n",
              "      <td>0.0</td>\n",
              "      <td>46000.0</td>\n",
              "      <td>0.0</td>\n",
              "      <td>0.0</td>\n",
              "      <td>0.0</td>\n",
              "      <td>0.0</td>\n",
              "      <td>0.0</td>\n",
              "      <td>0.048</td>\n",
              "      <td>1880.0</td>\n",
              "      <td>1875.0</td>\n",
              "      <td>833.0</td>\n",
              "      <td>0.0</td>\n",
              "      <td>NaN</td>\n",
              "      <td>1.0</td>\n",
              "      <td>1.055513</td>\n",
              "      <td>0.0000</td>\n",
              "      <td>NaN</td>\n",
              "      <td>NaN</td>\n",
              "      <td>0.0</td>\n",
              "      <td>NaN</td>\n",
              "      <td>0.0</td>\n",
              "    </tr>\n",
              "    <tr>\n",
              "      <th>1</th>\n",
              "      <td>569987</td>\n",
              "      <td>2</td>\n",
              "      <td>33</td>\n",
              "      <td>0.0</td>\n",
              "      <td>0</td>\n",
              "      <td>NaN</td>\n",
              "      <td>0</td>\n",
              "      <td>NaN</td>\n",
              "      <td>0</td>\n",
              "      <td>NaN</td>\n",
              "      <td>0</td>\n",
              "      <td>NaN</td>\n",
              "      <td>NaN</td>\n",
              "      <td>0</td>\n",
              "      <td>NaN</td>\n",
              "      <td>0</td>\n",
              "      <td>NaN</td>\n",
              "      <td>0</td>\n",
              "      <td>0</td>\n",
              "      <td>0</td>\n",
              "      <td>0</td>\n",
              "      <td>1.0</td>\n",
              "      <td>0.0</td>\n",
              "      <td>0.0</td>\n",
              "      <td>0.0</td>\n",
              "      <td>0.0</td>\n",
              "      <td>5133.0</td>\n",
              "      <td>0.0</td>\n",
              "      <td>0.0</td>\n",
              "      <td>0.0</td>\n",
              "      <td>0.0</td>\n",
              "      <td>0.0</td>\n",
              "      <td>NaN</td>\n",
              "      <td>NaN</td>\n",
              "      <td>NaN</td>\n",
              "      <td>NaN</td>\n",
              "      <td>NaN</td>\n",
              "      <td>NaN</td>\n",
              "      <td>NaN</td>\n",
              "      <td>NaN</td>\n",
              "      <td>NaN</td>\n",
              "      <td>NaN</td>\n",
              "      <td>NaN</td>\n",
              "      <td>NaN</td>\n",
              "      <td>NaN</td>\n",
              "      <td>NaN</td>\n",
              "    </tr>\n",
              "    <tr>\n",
              "      <th>2</th>\n",
              "      <td>569988</td>\n",
              "      <td>2</td>\n",
              "      <td>40</td>\n",
              "      <td>1.0</td>\n",
              "      <td>0</td>\n",
              "      <td>2401.0</td>\n",
              "      <td>302</td>\n",
              "      <td>1045.0</td>\n",
              "      <td>166</td>\n",
              "      <td>1357.0</td>\n",
              "      <td>136</td>\n",
              "      <td>289.0</td>\n",
              "      <td>483.0</td>\n",
              "      <td>96</td>\n",
              "      <td>220.0</td>\n",
              "      <td>18</td>\n",
              "      <td>986.0</td>\n",
              "      <td>176</td>\n",
              "      <td>5</td>\n",
              "      <td>5</td>\n",
              "      <td>2</td>\n",
              "      <td>10.0</td>\n",
              "      <td>1.0</td>\n",
              "      <td>0.0</td>\n",
              "      <td>0.0</td>\n",
              "      <td>1.0</td>\n",
              "      <td>69600.0</td>\n",
              "      <td>0.0</td>\n",
              "      <td>0.0</td>\n",
              "      <td>0.0</td>\n",
              "      <td>0.0</td>\n",
              "      <td>0.0</td>\n",
              "      <td>0.000</td>\n",
              "      <td>739.0</td>\n",
              "      <td>618.0</td>\n",
              "      <td>1251.0</td>\n",
              "      <td>0.0</td>\n",
              "      <td>43.0</td>\n",
              "      <td>2.0</td>\n",
              "      <td>0.029297</td>\n",
              "      <td>0.0000</td>\n",
              "      <td>NaN</td>\n",
              "      <td>NaN</td>\n",
              "      <td>0.0</td>\n",
              "      <td>NaN</td>\n",
              "      <td>0.0</td>\n",
              "    </tr>\n",
              "    <tr>\n",
              "      <th>3</th>\n",
              "      <td>569989</td>\n",
              "      <td>1</td>\n",
              "      <td>34</td>\n",
              "      <td>1.0</td>\n",
              "      <td>1</td>\n",
              "      <td>9836.0</td>\n",
              "      <td>856</td>\n",
              "      <td>829.0</td>\n",
              "      <td>190</td>\n",
              "      <td>9007.0</td>\n",
              "      <td>666</td>\n",
              "      <td>2104.0</td>\n",
              "      <td>2545.0</td>\n",
              "      <td>292</td>\n",
              "      <td>2109.0</td>\n",
              "      <td>254</td>\n",
              "      <td>1921.0</td>\n",
              "      <td>274</td>\n",
              "      <td>6</td>\n",
              "      <td>20</td>\n",
              "      <td>170</td>\n",
              "      <td>14.0</td>\n",
              "      <td>1.0</td>\n",
              "      <td>0.0</td>\n",
              "      <td>0.0</td>\n",
              "      <td>0.0</td>\n",
              "      <td>NaN</td>\n",
              "      <td>1.0</td>\n",
              "      <td>0.0</td>\n",
              "      <td>0.0</td>\n",
              "      <td>0.0</td>\n",
              "      <td>0.0</td>\n",
              "      <td>0.000</td>\n",
              "      <td>1864.0</td>\n",
              "      <td>1851.0</td>\n",
              "      <td>1004.0</td>\n",
              "      <td>1.0</td>\n",
              "      <td>829.0</td>\n",
              "      <td>0.0</td>\n",
              "      <td>0.000000</td>\n",
              "      <td>0.0000</td>\n",
              "      <td>NaN</td>\n",
              "      <td>NaN</td>\n",
              "      <td>0.0</td>\n",
              "      <td>NaN</td>\n",
              "      <td>0.0</td>\n",
              "    </tr>\n",
              "    <tr>\n",
              "      <th>4</th>\n",
              "      <td>569990</td>\n",
              "      <td>1</td>\n",
              "      <td>28</td>\n",
              "      <td>0.0</td>\n",
              "      <td>0</td>\n",
              "      <td>2351.0</td>\n",
              "      <td>260</td>\n",
              "      <td>584.0</td>\n",
              "      <td>90</td>\n",
              "      <td>1767.0</td>\n",
              "      <td>170</td>\n",
              "      <td>63.0</td>\n",
              "      <td>282.0</td>\n",
              "      <td>56</td>\n",
              "      <td>127.0</td>\n",
              "      <td>26</td>\n",
              "      <td>1878.0</td>\n",
              "      <td>124</td>\n",
              "      <td>3</td>\n",
              "      <td>3</td>\n",
              "      <td>9</td>\n",
              "      <td>7.0</td>\n",
              "      <td>1.0</td>\n",
              "      <td>0.0</td>\n",
              "      <td>0.0</td>\n",
              "      <td>1.0</td>\n",
              "      <td>9600.0</td>\n",
              "      <td>0.0</td>\n",
              "      <td>0.0</td>\n",
              "      <td>0.0</td>\n",
              "      <td>0.0</td>\n",
              "      <td>0.0</td>\n",
              "      <td>0.000</td>\n",
              "      <td>752.0</td>\n",
              "      <td>731.0</td>\n",
              "      <td>1293.0</td>\n",
              "      <td>0.0</td>\n",
              "      <td>NaN</td>\n",
              "      <td>1.0</td>\n",
              "      <td>0.200658</td>\n",
              "      <td>0.0000</td>\n",
              "      <td>NaN</td>\n",
              "      <td>NaN</td>\n",
              "      <td>0.0</td>\n",
              "      <td>NaN</td>\n",
              "      <td>0.0</td>\n",
              "    </tr>\n",
              "    <tr>\n",
              "      <th>5</th>\n",
              "      <td>569991</td>\n",
              "      <td>3</td>\n",
              "      <td>42</td>\n",
              "      <td>1.0</td>\n",
              "      <td>1</td>\n",
              "      <td>18963.0</td>\n",
              "      <td>1508</td>\n",
              "      <td>2451.0</td>\n",
              "      <td>298</td>\n",
              "      <td>16513.0</td>\n",
              "      <td>1210</td>\n",
              "      <td>4286.0</td>\n",
              "      <td>8199.0</td>\n",
              "      <td>692</td>\n",
              "      <td>8392.0</td>\n",
              "      <td>508</td>\n",
              "      <td>4183.0</td>\n",
              "      <td>436</td>\n",
              "      <td>21</td>\n",
              "      <td>279</td>\n",
              "      <td>367</td>\n",
              "      <td>91.0</td>\n",
              "      <td>1.0</td>\n",
              "      <td>0.0</td>\n",
              "      <td>0.0</td>\n",
              "      <td>1.0</td>\n",
              "      <td>165000.0</td>\n",
              "      <td>1.0</td>\n",
              "      <td>0.0</td>\n",
              "      <td>0.0</td>\n",
              "      <td>0.0</td>\n",
              "      <td>0.0</td>\n",
              "      <td>0.001</td>\n",
              "      <td>3302.0</td>\n",
              "      <td>3276.0</td>\n",
              "      <td>1042.0</td>\n",
              "      <td>1.0</td>\n",
              "      <td>765.0</td>\n",
              "      <td>2.0</td>\n",
              "      <td>0.058062</td>\n",
              "      <td>0.0786</td>\n",
              "      <td>5083.0</td>\n",
              "      <td>9240.0</td>\n",
              "      <td>3.0</td>\n",
              "      <td>NaN</td>\n",
              "      <td>0.0</td>\n",
              "    </tr>\n",
              "    <tr>\n",
              "      <th>6</th>\n",
              "      <td>569992</td>\n",
              "      <td>2</td>\n",
              "      <td>36</td>\n",
              "      <td>1.0</td>\n",
              "      <td>0</td>\n",
              "      <td>5784.0</td>\n",
              "      <td>872</td>\n",
              "      <td>945.0</td>\n",
              "      <td>312</td>\n",
              "      <td>4840.0</td>\n",
              "      <td>560</td>\n",
              "      <td>480.0</td>\n",
              "      <td>2877.0</td>\n",
              "      <td>388</td>\n",
              "      <td>1811.0</td>\n",
              "      <td>194</td>\n",
              "      <td>2078.0</td>\n",
              "      <td>456</td>\n",
              "      <td>15</td>\n",
              "      <td>475</td>\n",
              "      <td>28</td>\n",
              "      <td>57.0</td>\n",
              "      <td>1.0</td>\n",
              "      <td>0.0</td>\n",
              "      <td>0.0</td>\n",
              "      <td>1.0</td>\n",
              "      <td>72000.0</td>\n",
              "      <td>0.0</td>\n",
              "      <td>0.0</td>\n",
              "      <td>0.0</td>\n",
              "      <td>0.0</td>\n",
              "      <td>0.0</td>\n",
              "      <td>0.000</td>\n",
              "      <td>1781.0</td>\n",
              "      <td>1771.0</td>\n",
              "      <td>1304.0</td>\n",
              "      <td>0.0</td>\n",
              "      <td>NaN</td>\n",
              "      <td>2.0</td>\n",
              "      <td>0.087980</td>\n",
              "      <td>0.0000</td>\n",
              "      <td>NaN</td>\n",
              "      <td>NaN</td>\n",
              "      <td>0.0</td>\n",
              "      <td>NaN</td>\n",
              "      <td>0.0</td>\n",
              "    </tr>\n",
              "    <tr>\n",
              "      <th>7</th>\n",
              "      <td>569993</td>\n",
              "      <td>3</td>\n",
              "      <td>34</td>\n",
              "      <td>0.0</td>\n",
              "      <td>1</td>\n",
              "      <td>4932.0</td>\n",
              "      <td>118</td>\n",
              "      <td>305.0</td>\n",
              "      <td>14</td>\n",
              "      <td>4627.0</td>\n",
              "      <td>104</td>\n",
              "      <td>1488.0</td>\n",
              "      <td>1660.0</td>\n",
              "      <td>108</td>\n",
              "      <td>2391.0</td>\n",
              "      <td>24</td>\n",
              "      <td>1527.0</td>\n",
              "      <td>62</td>\n",
              "      <td>18</td>\n",
              "      <td>48</td>\n",
              "      <td>184</td>\n",
              "      <td>70.0</td>\n",
              "      <td>1.0</td>\n",
              "      <td>1.0</td>\n",
              "      <td>0.0</td>\n",
              "      <td>1.0</td>\n",
              "      <td>21333.0</td>\n",
              "      <td>1.0</td>\n",
              "      <td>0.0</td>\n",
              "      <td>0.0</td>\n",
              "      <td>0.0</td>\n",
              "      <td>0.0</td>\n",
              "      <td>0.130</td>\n",
              "      <td>1483.0</td>\n",
              "      <td>1483.0</td>\n",
              "      <td>906.0</td>\n",
              "      <td>1.0</td>\n",
              "      <td>145.0</td>\n",
              "      <td>1.0</td>\n",
              "      <td>0.957510</td>\n",
              "      <td>0.0000</td>\n",
              "      <td>4263.0</td>\n",
              "      <td>NaN</td>\n",
              "      <td>0.0</td>\n",
              "      <td>1262.0</td>\n",
              "      <td>2.0</td>\n",
              "    </tr>\n",
              "    <tr>\n",
              "      <th>8</th>\n",
              "      <td>569994</td>\n",
              "      <td>1</td>\n",
              "      <td>30</td>\n",
              "      <td>0.0</td>\n",
              "      <td>0</td>\n",
              "      <td>286.0</td>\n",
              "      <td>18</td>\n",
              "      <td>NaN</td>\n",
              "      <td>0</td>\n",
              "      <td>286.0</td>\n",
              "      <td>18</td>\n",
              "      <td>102.0</td>\n",
              "      <td>113.0</td>\n",
              "      <td>20</td>\n",
              "      <td>184.0</td>\n",
              "      <td>10</td>\n",
              "      <td>102.0</td>\n",
              "      <td>8</td>\n",
              "      <td>4</td>\n",
              "      <td>5</td>\n",
              "      <td>1</td>\n",
              "      <td>30.0</td>\n",
              "      <td>1.0</td>\n",
              "      <td>0.0</td>\n",
              "      <td>0.0</td>\n",
              "      <td>1.0</td>\n",
              "      <td>20000.0</td>\n",
              "      <td>0.0</td>\n",
              "      <td>0.0</td>\n",
              "      <td>0.0</td>\n",
              "      <td>0.0</td>\n",
              "      <td>0.0</td>\n",
              "      <td>0.006</td>\n",
              "      <td>210.0</td>\n",
              "      <td>169.0</td>\n",
              "      <td>958.0</td>\n",
              "      <td>0.0</td>\n",
              "      <td>NaN</td>\n",
              "      <td>1.0</td>\n",
              "      <td>-0.000480</td>\n",
              "      <td>0.0000</td>\n",
              "      <td>621.0</td>\n",
              "      <td>NaN</td>\n",
              "      <td>0.0</td>\n",
              "      <td>NaN</td>\n",
              "      <td>2.0</td>\n",
              "    </tr>\n",
              "    <tr>\n",
              "      <th>9</th>\n",
              "      <td>569995</td>\n",
              "      <td>1</td>\n",
              "      <td>29</td>\n",
              "      <td>1.0</td>\n",
              "      <td>0</td>\n",
              "      <td>1580.0</td>\n",
              "      <td>178</td>\n",
              "      <td>542.0</td>\n",
              "      <td>98</td>\n",
              "      <td>1038.0</td>\n",
              "      <td>80</td>\n",
              "      <td>137.0</td>\n",
              "      <td>592.0</td>\n",
              "      <td>52</td>\n",
              "      <td>382.0</td>\n",
              "      <td>8</td>\n",
              "      <td>678.0</td>\n",
              "      <td>112</td>\n",
              "      <td>7</td>\n",
              "      <td>41</td>\n",
              "      <td>29</td>\n",
              "      <td>9.0</td>\n",
              "      <td>1.0</td>\n",
              "      <td>0.0</td>\n",
              "      <td>0.0</td>\n",
              "      <td>1.0</td>\n",
              "      <td>16000.0</td>\n",
              "      <td>0.0</td>\n",
              "      <td>3.0</td>\n",
              "      <td>2.0</td>\n",
              "      <td>0.0</td>\n",
              "      <td>0.0</td>\n",
              "      <td>0.001</td>\n",
              "      <td>282.0</td>\n",
              "      <td>281.0</td>\n",
              "      <td>1255.0</td>\n",
              "      <td>0.0</td>\n",
              "      <td>9.0</td>\n",
              "      <td>1.0</td>\n",
              "      <td>0.230783</td>\n",
              "      <td>0.0000</td>\n",
              "      <td>7920.0</td>\n",
              "      <td>NaN</td>\n",
              "      <td>0.0</td>\n",
              "      <td>285.0</td>\n",
              "      <td>2.0</td>\n",
              "    </tr>\n",
              "  </tbody>\n",
              "</table>\n",
              "</div>"
            ],
            "text/plain": [
              "   cust_id  count_accts  ...  sow_tot_trans_bal_amt  sow_tot_trans_cnt\n",
              "0   569986            1  ...                    NaN                0.0\n",
              "1   569987            2  ...                    NaN                NaN\n",
              "2   569988            2  ...                    NaN                0.0\n",
              "3   569989            1  ...                    NaN                0.0\n",
              "4   569990            1  ...                    NaN                0.0\n",
              "5   569991            3  ...                    NaN                0.0\n",
              "6   569992            2  ...                    NaN                0.0\n",
              "7   569993            3  ...                 1262.0                2.0\n",
              "8   569994            1  ...                    NaN                2.0\n",
              "9   569995            1  ...                  285.0                2.0\n",
              "\n",
              "[10 rows x 46 columns]"
            ]
          },
          "metadata": {
            "tags": []
          },
          "execution_count": 103
        }
      ]
    },
    {
      "cell_type": "code",
      "metadata": {
        "id": "-37ZcQ_nJPoS",
        "colab": {
          "base_uri": "https://localhost:8080/"
        },
        "outputId": "3c0c2a35-9f39-4284-d23b-80a4e8a81a09"
      },
      "source": [
        "train_data.columns"
      ],
      "execution_count": null,
      "outputs": [
        {
          "output_type": "execute_result",
          "data": {
            "text/plain": [
              "Index(['cust_id', 'profitable_flag', 'count_accts', 'cm_age',\n",
              "       'flag_top_ed_spender', 'flag_cust_fee_paid_6m', 'pre6m_cust_spend',\n",
              "       'pre6m_cust_roc_cnt', 'pre6m_cust_non_disc_amt',\n",
              "       'pre6m_cust_non_disc_cnt', 'pre6m_cust_disc_amt', 'pre6m_cust_disc_cnt',\n",
              "       'pre6m_cust_outbound_amt', 'pre6m_cust_online_amt',\n",
              "       'pre6m_cust_online_cnt', 'pre6m_cust_travel_amt',\n",
              "       'pre6m_cust_travel_cnt', 'pre6m_cust_retail_amt',\n",
              "       'pre6m_cust_retail_cnt', 'pre6m_cust_myca_active',\n",
              "       'pre6m_cust_mob_logins', 'pre6m_total_mc_trs', 'Cust_tenure',\n",
              "       'pre6m_spend_active_ind', 'highly_utilized_ind', 'min_pay_ind',\n",
              "       'paid_in_full_ind', 'sum_total_line_amt', 'direct_debit_ind',\n",
              "       'referrals', 'spillover', 'self_accts',\n",
              "       'Customer Low Quality indicator', 'cdss_most_rcnt_prob',\n",
              "       'cust_max_credit_12m_amt', 'cust_max_remit_12m_amt', 'cbr_3_score',\n",
              "       'cnsumr_chrg_actv_cust_cnt', 'cnsumr_chrg_avg_credit_12m_amt',\n",
              "       'cnsumr_lend_actv_cust_cnt', 'cnsumr_lend_tot_util_ratio',\n",
              "       'sow_revol_avg_paydown_pct', 'sow_tot_annual_ext_pmt_amt',\n",
              "       'sow_tot_revol_bal_amt', 'sow_tot_revol_cnt', 'sow_tot_trans_bal_amt',\n",
              "       'sow_tot_trans_cnt'],\n",
              "      dtype='object')"
            ]
          },
          "metadata": {
            "tags": []
          },
          "execution_count": 104
        }
      ]
    },
    {
      "cell_type": "code",
      "metadata": {
        "id": "aABdf32INAzl",
        "colab": {
          "base_uri": "https://localhost:8080/"
        },
        "outputId": "0189eb2c-ea19-4ec6-cd29-41dc1c65c2a5"
      },
      "source": [
        "# Imbalance present in the data\n",
        "train_data['profitable_flag'].value_counts()"
      ],
      "execution_count": null,
      "outputs": [
        {
          "output_type": "execute_result",
          "data": {
            "text/plain": [
              "0.0    15951\n",
              "1.0     3644\n",
              "Name: profitable_flag, dtype: int64"
            ]
          },
          "metadata": {
            "tags": []
          },
          "execution_count": 105
        }
      ]
    },
    {
      "cell_type": "code",
      "metadata": {
        "id": "gnsolWfTcB72",
        "colab": {
          "base_uri": "https://localhost:8080/"
        },
        "outputId": "a31e9c78-1810-4f89-9096-172dc7b72c6c"
      },
      "source": [
        "# Dropping rows with cust_id null for train data\n",
        "drop_idx = train_data[train_data['cust_id'].isnull()].index.tolist()\n",
        "drop_idx"
      ],
      "execution_count": null,
      "outputs": [
        {
          "output_type": "execute_result",
          "data": {
            "text/plain": [
              "[19595, 19596, 19597, 19598]"
            ]
          },
          "metadata": {
            "tags": []
          },
          "execution_count": 106
        }
      ]
    },
    {
      "cell_type": "code",
      "metadata": {
        "id": "_IsEHbY7cbX7"
      },
      "source": [
        "train_data = train_data.drop(drop_idx)"
      ],
      "execution_count": null,
      "outputs": []
    },
    {
      "cell_type": "code",
      "metadata": {
        "id": "5bE88iDdNuPf"
      },
      "source": [
        "corr_mat = train_data.corr()"
      ],
      "execution_count": null,
      "outputs": []
    },
    {
      "cell_type": "code",
      "metadata": {
        "id": "_Q0_cqhANuCm",
        "colab": {
          "base_uri": "https://localhost:8080/",
          "height": 671
        },
        "outputId": "5a1b315b-e8a5-42bf-c3ce-c0ee7b6c96aa"
      },
      "source": [
        "# distribution plot for corr matrix\n",
        "plt.figure(figsize=(10,8))\n",
        "sns.heatmap(corr_mat.values, xticklabels=corr_mat.columns, yticklabels=corr_mat.columns)\n",
        "plt.title('Correlation heatmap', fontsize=24)\n",
        "plt.show()"
      ],
      "execution_count": null,
      "outputs": [
        {
          "output_type": "display_data",
          "data": {
            "image/png": "[encoded data removed]",
            "text/plain": [
              "<Figure size 720x576 with 2 Axes>"
            ]
          },
          "metadata": {
            "tags": [],
            "needs_background": "light"
          }
        }
      ]
    },
    {
      "cell_type": "code",
      "metadata": {
        "id": "-Z23pBjmd7_O"
      },
      "source": [
        "# Doing random analysis"
      ],
      "execution_count": null,
      "outputs": []
    },
    {
      "cell_type": "code",
      "metadata": {
        "id": "T9tomNH9cmHL"
      },
      "source": [
        "train = train_data.copy(deep=True)"
      ],
      "execution_count": null,
      "outputs": []
    },
    {
      "cell_type": "code",
      "metadata": {
        "id": "iXSkPsG50yiN",
        "colab": {
          "base_uri": "https://localhost:8080/"
        },
        "outputId": "af0a8ace-1339-4120-cbc2-169328bdaeec"
      },
      "source": [
        "train.shape[0]"
      ],
      "execution_count": null,
      "outputs": [
        {
          "output_type": "execute_result",
          "data": {
            "text/plain": [
              "19595"
            ]
          },
          "metadata": {
            "tags": []
          },
          "execution_count": 112
        }
      ]
    },
    {
      "cell_type": "code",
      "metadata": {
        "id": "2_1AOdGly7pa",
        "colab": {
          "base_uri": "https://localhost:8080/"
        },
        "outputId": "069a04f1-d373-4b8d-de61-5bc3ea3ab315"
      },
      "source": [
        "train.isna().sum().sort_values(ascending=False)"
      ],
      "execution_count": null,
      "outputs": [
        {
          "output_type": "execute_result",
          "data": {
            "text/plain": [
              "sow_tot_revol_bal_amt             16498\n",
              "cnsumr_chrg_avg_credit_12m_amt    15448\n",
              "sow_tot_trans_bal_amt             14089\n",
              "sow_tot_annual_ext_pmt_amt        10557\n",
              "pre6m_cust_outbound_amt            2246\n",
              "cust_max_remit_12m_amt             2002\n",
              "pre6m_cust_travel_amt              1974\n",
              "cust_max_credit_12m_amt            1853\n",
              "sum_total_line_amt                 1784\n",
              "pre6m_cust_online_amt              1249\n",
              "pre6m_cust_non_disc_amt            1192\n",
              "pre6m_cust_retail_amt               854\n",
              "pre6m_cust_disc_amt                 725\n",
              "pre6m_cust_spend                    615\n",
              "sow_tot_trans_cnt                   245\n",
              "cdss_most_rcnt_prob                 245\n",
              "cbr_3_score                         245\n",
              "cnsumr_chrg_actv_cust_cnt           245\n",
              "cnsumr_lend_actv_cust_cnt           245\n",
              "cnsumr_lend_tot_util_ratio          245\n",
              "sow_revol_avg_paydown_pct           245\n",
              "sow_tot_revol_cnt                   245\n",
              "Cust_tenure                         236\n",
              "pre6m_spend_active_ind              236\n",
              "highly_utilized_ind                 236\n",
              "self_accts                          236\n",
              "min_pay_ind                         236\n",
              "paid_in_full_ind                    236\n",
              "direct_debit_ind                    236\n",
              "referrals                           236\n",
              "Customer Low Quality indicator      236\n",
              "spillover                           236\n",
              "flag_top_ed_spender                  48\n",
              "profitable_flag                       0\n",
              "count_accts                           0\n",
              "cm_age                                0\n",
              "flag_cust_fee_paid_6m                 0\n",
              "pre6m_cust_roc_cnt                    0\n",
              "pre6m_cust_disc_cnt                   0\n",
              "pre6m_cust_non_disc_cnt               0\n",
              "pre6m_total_mc_trs                    0\n",
              "pre6m_cust_online_cnt                 0\n",
              "pre6m_cust_travel_cnt                 0\n",
              "pre6m_cust_retail_cnt                 0\n",
              "pre6m_cust_myca_active                0\n",
              "pre6m_cust_mob_logins                 0\n",
              "cust_id                               0\n",
              "dtype: int64"
            ]
          },
          "metadata": {
            "tags": []
          },
          "execution_count": 113
        }
      ]
    },
    {
      "cell_type": "code",
      "metadata": {
        "id": "Xg4WYKYZYBPq"
      },
      "source": [
        "# dropping cols having heavy null values and low correlation cofficient with target variable\n",
        "null_col_drop = ['sow_tot_revol_bal_amt','sow_tot_trans_bal_amt','sow_tot_annual_ext_pmt_amt']\n",
        "train = train.drop(columns=null_col_drop)"
      ],
      "execution_count": null,
      "outputs": []
    },
    {
      "cell_type": "code",
      "metadata": {
        "id": "nBj1DAoWgWr6"
      },
      "source": [
        "# dropping cols from test data\n",
        "test_data = test_data.drop(columns=null_col_drop)"
      ],
      "execution_count": null,
      "outputs": []
    },
    {
      "cell_type": "code",
      "metadata": {
        "id": "esm8nJy3YoD4"
      },
      "source": [
        "# Imputing missing values for the rest of the columns using median\n",
        "col = list(train.columns)\n",
        "imputer = SimpleImputer(strategy='median')\n",
        "train[col] = imputer.fit_transform(train[col])"
      ],
      "execution_count": null,
      "outputs": []
    },
    {
      "cell_type": "code",
      "metadata": {
        "id": "remeUV6IgnR5"
      },
      "source": [
        "# imputation in test data\n",
        "test_data['profitable_flag'] = 1\n",
        "test_data[col] = imputer.transform(test_data[col])\n",
        "test_data.drop(columns='profitable_flag', inplace=True)"
      ],
      "execution_count": null,
      "outputs": []
    },
    {
      "cell_type": "code",
      "metadata": {
        "id": "JMs17ZARy7an"
      },
      "source": [
        "corr_mat = train.corr()"
      ],
      "execution_count": null,
      "outputs": []
    },
    {
      "cell_type": "code",
      "metadata": {
        "id": "VCJdAlzzPEbF",
        "colab": {
          "base_uri": "https://localhost:8080/",
          "height": 411
        },
        "outputId": "5a157ed6-d6de-41af-91c8-c1e813cd5ea8"
      },
      "source": [
        "# distribution plot for corr matrix after dropping out few columns\n",
        "plt.figure(figsize=(10,6))\n",
        "sns.displot(corr_mat.values, legend= False, kind='hist')\n",
        "plt.title('Distribution of correlation coff values', fontsize=24)\n",
        "plt.show()"
      ],
      "execution_count": null,
      "outputs": [
        {
          "output_type": "display_data",
          "data": {
            "text/plain": [
              "<Figure size 720x432 with 0 Axes>"
            ]
          },
          "metadata": {
            "tags": []
          }
        },
        {
          "output_type": "display_data",
          "data": {
            "image/png": "[encoded data removed]",
            "text/plain": [
              "<Figure size 360x360 with 1 Axes>"
            ]
          },
          "metadata": {
            "tags": [],
            "needs_background": "light"
          }
        }
      ]
    },
    {
      "cell_type": "code",
      "metadata": {
        "id": "dtHahBm9sYX9",
        "colab": {
          "base_uri": "https://localhost:8080/",
          "height": 773
        },
        "outputId": "0f9b73b1-31f0-4662-c44f-07034ad4cc8f"
      },
      "source": [
        "plt.figure(figsize=(10,10))\n",
        "sns.heatmap(corr_mat.values, xticklabels=corr_mat.columns, yticklabels=corr_mat.columns)\n",
        "plt.title('Correlation heatmap', fontsize=16)\n",
        "plt.show()"
      ],
      "execution_count": null,
      "outputs": [
        {
          "output_type": "display_data",
          "data": {
            "image/png": "[encoded data removed]",
            "text/plain": [
              "<Figure size 720x720 with 2 Axes>"
            ]
          },
          "metadata": {
            "tags": [],
            "needs_background": "light"
          }
        }
      ]
    },
    {
      "cell_type": "code",
      "metadata": {
        "id": "RV5bBqUy_ETa"
      },
      "source": [
        "target_corr = corr_mat.iloc[1,:].sort_values()\n",
        "target_corr = target_corr[:-1]"
      ],
      "execution_count": null,
      "outputs": []
    },
    {
      "cell_type": "code",
      "metadata": {
        "id": "KgqZvqCP_Egi",
        "colab": {
          "base_uri": "https://localhost:8080/",
          "height": 964
        },
        "outputId": "1936378c-2c53-4939-b795-3b3532909e51"
      },
      "source": [
        "plt.figure(figsize=(8,16))\n",
        "plt.barh(list(target_corr.index), list(target_corr.values))\n",
        "plt.title('Correlation values with target variable', fontsize=30)"
      ],
      "execution_count": null,
      "outputs": [
        {
          "output_type": "execute_result",
          "data": {
            "text/plain": [
              "Text(0.5, 1.0, 'Correlation values with target variable')"
            ]
          },
          "metadata": {
            "tags": []
          },
          "execution_count": 122
        },
        {
          "output_type": "display_data",
          "data": {
            "image/png": "[encoded data removed]",
            "text/plain": [
              "<Figure size 576x1152 with 1 Axes>"
            ]
          },
          "metadata": {
            "tags": [],
            "needs_background": "light"
          }
        }
      ]
    },
    {
      "cell_type": "code",
      "metadata": {
        "id": "2y6e7RS7CmHi"
      },
      "source": [
        "# Finding highly corr feature pairs\n",
        "col = list(train.columns)\n",
        "pairs = []\n",
        "for i in range(len(col)):\n",
        "  for j in range(i+1,len(col),1):\n",
        "    if i == j:\n",
        "      continue\n",
        "    if corr_mat.iloc[i,j] > 0.5:\n",
        "      pairs.append((col[i], col[j], corr_mat.iloc[i,j]))\n",
        "\n",
        "pairs.sort(key = lambda x : x[2], reverse=True)"
      ],
      "execution_count": null,
      "outputs": []
    },
    {
      "cell_type": "code",
      "metadata": {
        "id": "_4fWFRu9ClZu",
        "colab": {
          "base_uri": "https://localhost:8080/"
        },
        "outputId": "ee2c98bb-71cc-4cf0-8548-2a29dda3a697"
      },
      "source": [
        "# sorted list of pairs having high corr\n",
        "pairs"
      ],
      "execution_count": null,
      "outputs": [
        {
          "output_type": "execute_result",
          "data": {
            "text/plain": [
              "[('cust_max_credit_12m_amt', 'cust_max_remit_12m_amt', 0.9861438012874116),\n",
              " ('pre6m_cust_spend', 'pre6m_cust_disc_amt', 0.9730325229649457),\n",
              " ('pre6m_cust_roc_cnt', 'pre6m_cust_disc_cnt', 0.9712875673139646),\n",
              " ('pre6m_cust_online_cnt', 'pre6m_cust_retail_cnt', 0.9390173240646688),\n",
              " ('pre6m_cust_disc_cnt', 'pre6m_cust_online_cnt', 0.8930653854209487),\n",
              " ('pre6m_cust_disc_cnt', 'pre6m_cust_retail_cnt', 0.8906160113910369),\n",
              " ('pre6m_cust_roc_cnt', 'pre6m_cust_retail_cnt', 0.8851087401594667),\n",
              " ('referrals', 'spillover', 0.8464940726172074),\n",
              " ('pre6m_cust_disc_amt', 'pre6m_cust_online_amt', 0.8397152662427706),\n",
              " ('pre6m_cust_roc_cnt', 'pre6m_cust_online_cnt', 0.8226164502350798),\n",
              " ('pre6m_cust_spend', 'pre6m_cust_online_amt', 0.8204378312604217),\n",
              " ('pre6m_cust_spend', 'pre6m_cust_retail_amt', 0.8055053205108511),\n",
              " ('pre6m_cust_spend', 'cust_max_remit_12m_amt', 0.7946861790611087),\n",
              " ('pre6m_cust_spend', 'cust_max_credit_12m_amt', 0.7895524812981357),\n",
              " ('pre6m_cust_disc_amt', 'cust_max_remit_12m_amt', 0.7645772704188786),\n",
              " ('pre6m_cust_disc_amt', 'cust_max_credit_12m_amt', 0.7576065241445409),\n",
              " ('pre6m_cust_disc_amt', 'pre6m_cust_retail_amt', 0.750946492451908),\n",
              " ('count_accts', 'cnsumr_lend_actv_cust_cnt', 0.6957619727418192),\n",
              " ('pre6m_cust_disc_amt', 'pre6m_cust_outbound_amt', 0.6686174477643668),\n",
              " ('pre6m_cust_spend', 'pre6m_cust_outbound_amt', 0.6493515416018351),\n",
              " ('pre6m_cust_retail_amt', 'cust_max_remit_12m_amt', 0.6396830613110163),\n",
              " ('pre6m_cust_retail_amt', 'cust_max_credit_12m_amt', 0.6358619762783109),\n",
              " ('pre6m_cust_online_amt', 'cust_max_remit_12m_amt', 0.6338440868639885),\n",
              " ('pre6m_cust_online_amt', 'cust_max_credit_12m_amt', 0.6322462175437847),\n",
              " ('pre6m_cust_online_amt', 'pre6m_cust_retail_amt', 0.6110589092307996),\n",
              " ('pre6m_cust_spend', 'pre6m_total_mc_trs', 0.6060798224276688),\n",
              " ('pre6m_cust_disc_amt', 'pre6m_total_mc_trs', 0.6050779661928332),\n",
              " ('count_accts', 'pre6m_cust_myca_active', 0.6019897996636869),\n",
              " ('pre6m_cust_disc_amt', 'pre6m_cust_travel_amt', 0.5973903635796366),\n",
              " ('pre6m_cust_spend', 'pre6m_cust_travel_amt', 0.5913195002562329),\n",
              " ('pre6m_cust_roc_cnt', 'pre6m_cust_non_disc_cnt', 0.5840622233683234),\n",
              " ('pre6m_cust_outbound_amt', 'pre6m_cust_online_amt', 0.581809154321342),\n",
              " ('pre6m_cust_roc_cnt', 'pre6m_cust_travel_cnt', 0.5723923167870659),\n",
              " ('pre6m_cust_outbound_amt', 'pre6m_total_mc_trs', 0.5708309347470593),\n",
              " ('pre6m_cust_outbound_amt', 'pre6m_cust_travel_amt', 0.5520194509024052),\n",
              " ('sow_revol_avg_paydown_pct', 'sow_tot_revol_cnt', 0.5475069815239867),\n",
              " ('pre6m_cust_non_disc_amt', 'pre6m_cust_retail_amt', 0.5419628571871039),\n",
              " ('pre6m_cust_disc_cnt', 'pre6m_cust_travel_cnt', 0.5418185477716987),\n",
              " ('pre6m_cust_travel_amt', 'cust_max_remit_12m_amt', 0.53872829263888),\n",
              " ('pre6m_cust_online_amt', 'pre6m_cust_online_cnt', 0.5382975149575837),\n",
              " ('pre6m_cust_travel_amt', 'cust_max_credit_12m_amt', 0.5349399694940136),\n",
              " ('highly_utilized_ind', 'cnsumr_lend_tot_util_ratio', 0.5331846467780719),\n",
              " ('pre6m_total_mc_trs', 'cust_max_remit_12m_amt', 0.5309490173218316),\n",
              " ('pre6m_cust_online_amt', 'pre6m_total_mc_trs', 0.5308811008068403),\n",
              " ('pre6m_total_mc_trs', 'cust_max_credit_12m_amt', 0.5295631946958861),\n",
              " ('pre6m_cust_outbound_amt', 'cust_max_remit_12m_amt', 0.5256916504648639),\n",
              " ('pre6m_cust_outbound_amt', 'cust_max_credit_12m_amt', 0.5253740567102336),\n",
              " ('pre6m_cust_spend', 'pre6m_cust_non_disc_amt', 0.5164232190503472),\n",
              " ('pre6m_cust_disc_cnt', 'pre6m_cust_online_amt', 0.5100804785529572),\n",
              " ('Cust_tenure', 'sum_total_line_amt', 0.5088328735171636),\n",
              " ('pre6m_cust_retail_amt', 'pre6m_cust_retail_cnt', 0.5006161404963732)]"
            ]
          },
          "metadata": {
            "tags": []
          },
          "execution_count": 124
        }
      ]
    },
    {
      "cell_type": "code",
      "metadata": {
        "id": "IuUG52-fci6I",
        "colab": {
          "base_uri": "https://localhost:8080/",
          "height": 275
        },
        "outputId": "b2f4813e-af5c-45f0-8719-8d579cce2c06"
      },
      "source": [
        "train.head()"
      ],
      "execution_count": null,
      "outputs": [
        {
          "output_type": "execute_result",
          "data": {
            "text/html": [
              "<div>\n",
              "<style scoped>\n",
              "    .dataframe tbody tr th:only-of-type {\n",
              "        vertical-align: middle;\n",
              "    }\n",
              "\n",
              "    .dataframe tbody tr th {\n",
              "        vertical-align: top;\n",
              "    }\n",
              "\n",
              "    .dataframe thead th {\n",
              "        text-align: right;\n",
              "    }\n",
              "</style>\n",
              "<table border=\"1\" class=\"dataframe\">\n",
              "  <thead>\n",
              "    <tr style=\"text-align: right;\">\n",
              "      <th></th>\n",
              "      <th>cust_id</th>\n",
              "      <th>profitable_flag</th>\n",
              "      <th>count_accts</th>\n",
              "      <th>cm_age</th>\n",
              "      <th>flag_top_ed_spender</th>\n",
              "      <th>flag_cust_fee_paid_6m</th>\n",
              "      <th>pre6m_cust_spend</th>\n",
              "      <th>pre6m_cust_roc_cnt</th>\n",
              "      <th>pre6m_cust_non_disc_amt</th>\n",
              "      <th>pre6m_cust_non_disc_cnt</th>\n",
              "      <th>pre6m_cust_disc_amt</th>\n",
              "      <th>pre6m_cust_disc_cnt</th>\n",
              "      <th>pre6m_cust_outbound_amt</th>\n",
              "      <th>pre6m_cust_online_amt</th>\n",
              "      <th>pre6m_cust_online_cnt</th>\n",
              "      <th>pre6m_cust_travel_amt</th>\n",
              "      <th>pre6m_cust_travel_cnt</th>\n",
              "      <th>pre6m_cust_retail_amt</th>\n",
              "      <th>pre6m_cust_retail_cnt</th>\n",
              "      <th>pre6m_cust_myca_active</th>\n",
              "      <th>pre6m_cust_mob_logins</th>\n",
              "      <th>pre6m_total_mc_trs</th>\n",
              "      <th>Cust_tenure</th>\n",
              "      <th>pre6m_spend_active_ind</th>\n",
              "      <th>highly_utilized_ind</th>\n",
              "      <th>min_pay_ind</th>\n",
              "      <th>paid_in_full_ind</th>\n",
              "      <th>sum_total_line_amt</th>\n",
              "      <th>direct_debit_ind</th>\n",
              "      <th>referrals</th>\n",
              "      <th>spillover</th>\n",
              "      <th>self_accts</th>\n",
              "      <th>Customer Low Quality indicator</th>\n",
              "      <th>cdss_most_rcnt_prob</th>\n",
              "      <th>cust_max_credit_12m_amt</th>\n",
              "      <th>cust_max_remit_12m_amt</th>\n",
              "      <th>cbr_3_score</th>\n",
              "      <th>cnsumr_chrg_actv_cust_cnt</th>\n",
              "      <th>cnsumr_chrg_avg_credit_12m_amt</th>\n",
              "      <th>cnsumr_lend_actv_cust_cnt</th>\n",
              "      <th>cnsumr_lend_tot_util_ratio</th>\n",
              "      <th>sow_revol_avg_paydown_pct</th>\n",
              "      <th>sow_tot_revol_cnt</th>\n",
              "      <th>sow_tot_trans_cnt</th>\n",
              "    </tr>\n",
              "  </thead>\n",
              "  <tbody>\n",
              "    <tr>\n",
              "      <th>0</th>\n",
              "      <td>550391.0</td>\n",
              "      <td>0.0</td>\n",
              "      <td>1.0</td>\n",
              "      <td>74.0</td>\n",
              "      <td>1.0</td>\n",
              "      <td>0.0</td>\n",
              "      <td>1518.0</td>\n",
              "      <td>122.0</td>\n",
              "      <td>811.0</td>\n",
              "      <td>96.0</td>\n",
              "      <td>707.0</td>\n",
              "      <td>26.0</td>\n",
              "      <td>410.0</td>\n",
              "      <td>606.0</td>\n",
              "      <td>36.0</td>\n",
              "      <td>28.0</td>\n",
              "      <td>2.0</td>\n",
              "      <td>814.0</td>\n",
              "      <td>98.0</td>\n",
              "      <td>9.0</td>\n",
              "      <td>203.0</td>\n",
              "      <td>2.0</td>\n",
              "      <td>63.0</td>\n",
              "      <td>1.0</td>\n",
              "      <td>0.0</td>\n",
              "      <td>0.0</td>\n",
              "      <td>1.0</td>\n",
              "      <td>80000.0</td>\n",
              "      <td>1.0</td>\n",
              "      <td>1.0</td>\n",
              "      <td>0.0</td>\n",
              "      <td>0.0</td>\n",
              "      <td>0.0</td>\n",
              "      <td>0.000</td>\n",
              "      <td>482.0</td>\n",
              "      <td>418.0</td>\n",
              "      <td>1376.0</td>\n",
              "      <td>0.0</td>\n",
              "      <td>395.0</td>\n",
              "      <td>1.0</td>\n",
              "      <td>0.034044</td>\n",
              "      <td>0.0000</td>\n",
              "      <td>0.0</td>\n",
              "      <td>3.0</td>\n",
              "    </tr>\n",
              "    <tr>\n",
              "      <th>1</th>\n",
              "      <td>550392.0</td>\n",
              "      <td>0.0</td>\n",
              "      <td>1.0</td>\n",
              "      <td>64.0</td>\n",
              "      <td>0.0</td>\n",
              "      <td>0.0</td>\n",
              "      <td>4807.0</td>\n",
              "      <td>354.0</td>\n",
              "      <td>1052.0</td>\n",
              "      <td>82.0</td>\n",
              "      <td>3756.0</td>\n",
              "      <td>272.0</td>\n",
              "      <td>673.0</td>\n",
              "      <td>3164.0</td>\n",
              "      <td>456.0</td>\n",
              "      <td>2291.0</td>\n",
              "      <td>44.0</td>\n",
              "      <td>1265.0</td>\n",
              "      <td>116.0</td>\n",
              "      <td>0.0</td>\n",
              "      <td>0.0</td>\n",
              "      <td>15.0</td>\n",
              "      <td>203.0</td>\n",
              "      <td>1.0</td>\n",
              "      <td>0.0</td>\n",
              "      <td>0.0</td>\n",
              "      <td>1.0</td>\n",
              "      <td>140000.0</td>\n",
              "      <td>1.0</td>\n",
              "      <td>1.0</td>\n",
              "      <td>1.0</td>\n",
              "      <td>0.0</td>\n",
              "      <td>0.0</td>\n",
              "      <td>0.000</td>\n",
              "      <td>2165.0</td>\n",
              "      <td>2165.0</td>\n",
              "      <td>1300.0</td>\n",
              "      <td>0.0</td>\n",
              "      <td>7.0</td>\n",
              "      <td>1.0</td>\n",
              "      <td>0.044086</td>\n",
              "      <td>0.0877</td>\n",
              "      <td>2.0</td>\n",
              "      <td>0.0</td>\n",
              "    </tr>\n",
              "    <tr>\n",
              "      <th>2</th>\n",
              "      <td>550393.0</td>\n",
              "      <td>0.0</td>\n",
              "      <td>1.0</td>\n",
              "      <td>75.0</td>\n",
              "      <td>1.0</td>\n",
              "      <td>0.0</td>\n",
              "      <td>2361.0</td>\n",
              "      <td>204.0</td>\n",
              "      <td>1351.0</td>\n",
              "      <td>118.0</td>\n",
              "      <td>1010.0</td>\n",
              "      <td>86.0</td>\n",
              "      <td>237.0</td>\n",
              "      <td>693.0</td>\n",
              "      <td>152.0</td>\n",
              "      <td>903.0</td>\n",
              "      <td>0.0</td>\n",
              "      <td>1623.0</td>\n",
              "      <td>166.0</td>\n",
              "      <td>9.0</td>\n",
              "      <td>18.0</td>\n",
              "      <td>20.0</td>\n",
              "      <td>201.0</td>\n",
              "      <td>1.0</td>\n",
              "      <td>0.0</td>\n",
              "      <td>0.0</td>\n",
              "      <td>1.0</td>\n",
              "      <td>32800.0</td>\n",
              "      <td>0.0</td>\n",
              "      <td>0.0</td>\n",
              "      <td>0.0</td>\n",
              "      <td>0.0</td>\n",
              "      <td>0.0</td>\n",
              "      <td>0.000</td>\n",
              "      <td>703.0</td>\n",
              "      <td>687.0</td>\n",
              "      <td>1376.0</td>\n",
              "      <td>0.0</td>\n",
              "      <td>395.0</td>\n",
              "      <td>1.0</td>\n",
              "      <td>0.039613</td>\n",
              "      <td>0.0000</td>\n",
              "      <td>0.0</td>\n",
              "      <td>3.0</td>\n",
              "    </tr>\n",
              "    <tr>\n",
              "      <th>3</th>\n",
              "      <td>550394.0</td>\n",
              "      <td>0.0</td>\n",
              "      <td>2.0</td>\n",
              "      <td>73.0</td>\n",
              "      <td>0.0</td>\n",
              "      <td>1.0</td>\n",
              "      <td>5452.0</td>\n",
              "      <td>142.0</td>\n",
              "      <td>1195.0</td>\n",
              "      <td>50.0</td>\n",
              "      <td>4257.0</td>\n",
              "      <td>92.0</td>\n",
              "      <td>803.0</td>\n",
              "      <td>1618.0</td>\n",
              "      <td>64.0</td>\n",
              "      <td>2760.0</td>\n",
              "      <td>54.0</td>\n",
              "      <td>1605.0</td>\n",
              "      <td>54.0</td>\n",
              "      <td>9.0</td>\n",
              "      <td>23.0</td>\n",
              "      <td>30.0</td>\n",
              "      <td>286.0</td>\n",
              "      <td>1.0</td>\n",
              "      <td>0.0</td>\n",
              "      <td>0.0</td>\n",
              "      <td>1.0</td>\n",
              "      <td>100000.0</td>\n",
              "      <td>1.0</td>\n",
              "      <td>0.0</td>\n",
              "      <td>0.0</td>\n",
              "      <td>0.0</td>\n",
              "      <td>0.0</td>\n",
              "      <td>0.000</td>\n",
              "      <td>1225.0</td>\n",
              "      <td>1225.0</td>\n",
              "      <td>1372.0</td>\n",
              "      <td>1.0</td>\n",
              "      <td>493.0</td>\n",
              "      <td>1.0</td>\n",
              "      <td>0.001200</td>\n",
              "      <td>0.0000</td>\n",
              "      <td>0.0</td>\n",
              "      <td>4.0</td>\n",
              "    </tr>\n",
              "    <tr>\n",
              "      <th>4</th>\n",
              "      <td>550395.0</td>\n",
              "      <td>0.0</td>\n",
              "      <td>2.0</td>\n",
              "      <td>68.0</td>\n",
              "      <td>0.0</td>\n",
              "      <td>0.0</td>\n",
              "      <td>170.0</td>\n",
              "      <td>34.0</td>\n",
              "      <td>88.0</td>\n",
              "      <td>20.0</td>\n",
              "      <td>82.0</td>\n",
              "      <td>14.0</td>\n",
              "      <td>10.0</td>\n",
              "      <td>10.0</td>\n",
              "      <td>4.0</td>\n",
              "      <td>903.0</td>\n",
              "      <td>0.0</td>\n",
              "      <td>66.0</td>\n",
              "      <td>18.0</td>\n",
              "      <td>0.0</td>\n",
              "      <td>0.0</td>\n",
              "      <td>9.0</td>\n",
              "      <td>123.0</td>\n",
              "      <td>1.0</td>\n",
              "      <td>0.0</td>\n",
              "      <td>0.0</td>\n",
              "      <td>1.0</td>\n",
              "      <td>20800.0</td>\n",
              "      <td>1.0</td>\n",
              "      <td>0.0</td>\n",
              "      <td>0.0</td>\n",
              "      <td>0.0</td>\n",
              "      <td>0.0</td>\n",
              "      <td>0.001</td>\n",
              "      <td>51.0</td>\n",
              "      <td>35.0</td>\n",
              "      <td>1338.0</td>\n",
              "      <td>0.0</td>\n",
              "      <td>395.0</td>\n",
              "      <td>2.0</td>\n",
              "      <td>0.003378</td>\n",
              "      <td>0.0168</td>\n",
              "      <td>5.0</td>\n",
              "      <td>13.0</td>\n",
              "    </tr>\n",
              "  </tbody>\n",
              "</table>\n",
              "</div>"
            ],
            "text/plain": [
              "    cust_id  profitable_flag  ...  sow_tot_revol_cnt  sow_tot_trans_cnt\n",
              "0  550391.0              0.0  ...                0.0                3.0\n",
              "1  550392.0              0.0  ...                2.0                0.0\n",
              "2  550393.0              0.0  ...                0.0                3.0\n",
              "3  550394.0              0.0  ...                0.0                4.0\n",
              "4  550395.0              0.0  ...                5.0               13.0\n",
              "\n",
              "[5 rows x 44 columns]"
            ]
          },
          "metadata": {
            "tags": []
          },
          "execution_count": 125
        }
      ]
    },
    {
      "cell_type": "code",
      "metadata": {
        "id": "QBRdtNhlcOC3"
      },
      "source": [
        "# Aggregating columns having high correlation cofficients\n",
        "col_set1 = ['pre6m_cust_spend','pre6m_cust_non_disc_amt','pre6m_cust_disc_amt','pre6m_cust_outbound_amt','pre6m_cust_online_amt',\n",
        "            'pre6m_cust_travel_amt','pre6m_cust_retail_amt']\n",
        "col_set2 = ['pre6m_cust_roc_cnt','pre6m_cust_non_disc_cnt','pre6m_cust_disc_cnt','pre6m_cust_online_cnt','pre6m_cust_travel_cnt',\n",
        "            'pre6m_cust_retail_cnt']\n",
        "col_set3 = ['cust_max_credit_12m_amt','cust_max_remit_12m_amt']\n",
        "col_set4 = ['referrals','spillover']\n",
        "col_set5 = ['sow_tot_revol_cnt','sow_tot_trans_cnt']"
      ],
      "execution_count": null,
      "outputs": []
    },
    {
      "cell_type": "code",
      "metadata": {
        "id": "nZg2MgaacOU-"
      },
      "source": [
        "# (To-Do) Replace mean by the first of the column\n",
        "\n",
        "# train['pre6m_spend'] = train[col_set1].mean(axis=1)\n",
        "train['pre6m_spend'] = train['pre6m_cust_spend']\n",
        "train = train.drop(columns=col_set1)\n",
        "\n",
        "# train['pre6m_count'] = train[col_set2].mean(axis=1)\n",
        "train['pre6m_count'] = train['pre6m_cust_roc_cnt']\n",
        "train = train.drop(columns=col_set2)\n",
        "\n",
        "# train['cust6m_max_amt'] = train[col_set3].mean(axis=1) / 2\n",
        "train['cust6m_max_amt'] = train['cust_max_credit_12m_amt']/2\n",
        "train = train.drop(columns=col_set3)\n",
        "\n",
        "# train['reff_spill'] = train[col_set4].mean(axis=1)\n",
        "train['reff_spill'] = train['spillover']\n",
        "train = train.drop(columns=col_set4)\n",
        "\n",
        "train['sow_counts'] = train[col_set5].mean(axis=1)\n",
        "train = train.drop(columns=col_set5)"
      ],
      "execution_count": null,
      "outputs": []
    },
    {
      "cell_type": "code",
      "metadata": {
        "id": "7-uAAxAThgUY"
      },
      "source": [
        "# for test data\n",
        "\n",
        "test_data['prem6m_spend'] = test_data['pre6m_cust_spend']\n",
        "test_data = test_data.drop(columns=col_set1)\n",
        "\n",
        "test_data['pre6m_count'] = test_data['pre6m_cust_roc_cnt']\n",
        "test_data = test_data.drop(columns=col_set2)\n",
        "\n",
        "test_data['cust6m_max_amt'] = test_data['cust_max_credit_12m_amt'] / 2\n",
        "test_data = test_data.drop(columns=col_set3)\n",
        "\n",
        "test_data['reff_spill'] = test_data['spillover']\n",
        "test_data = test_data.drop(columns=col_set4)\n",
        "\n",
        "test_data['sow_counts'] = test_data[col_set5].mean(axis=1)\n",
        "test_data = test_data.drop(columns=col_set5)"
      ],
      "execution_count": null,
      "outputs": []
    },
    {
      "cell_type": "code",
      "metadata": {
        "id": "zZuWFBmXcNHN"
      },
      "source": [
        "# Additional columns to drop which have less corr coff with target\n",
        "drop_col = ['cm_age','pre6m_cust_mob_logins','sow_counts','cust_id','highly_utilized_ind','paid_in_full_ind','cnsumr_lend_tot_util_ratio',\n",
        "            'cnsumr_chrg_actv_cust_cnt','pre6m_cust_myca_active']\n",
        "train = train.drop(columns=drop_col)"
      ],
      "execution_count": null,
      "outputs": []
    },
    {
      "cell_type": "code",
      "metadata": {
        "id": "3lv7LngyClLQ"
      },
      "source": [
        "# for test data dropping cols\n",
        "cust_id = test_data['cust_id']\n",
        "test_data = test_data.drop(columns=drop_col)"
      ],
      "execution_count": null,
      "outputs": []
    },
    {
      "cell_type": "code",
      "metadata": {
        "id": "otIJBeUQdquW"
      },
      "source": [
        "y = train['profitable_flag']\n",
        "train.drop(columns='profitable_flag', inplace=True)"
      ],
      "execution_count": null,
      "outputs": []
    },
    {
      "cell_type": "code",
      "metadata": {
        "id": "5HG0Lfd7o8OC",
        "colab": {
          "base_uri": "https://localhost:8080/"
        },
        "outputId": "adbeb0f5-6dc4-4f50-d1ae-f9eba9025329"
      },
      "source": [
        "train.columns"
      ],
      "execution_count": null,
      "outputs": [
        {
          "output_type": "execute_result",
          "data": {
            "text/plain": [
              "Index(['count_accts', 'flag_top_ed_spender', 'flag_cust_fee_paid_6m',\n",
              "       'pre6m_total_mc_trs', 'Cust_tenure', 'pre6m_spend_active_ind',\n",
              "       'min_pay_ind', 'sum_total_line_amt', 'direct_debit_ind', 'self_accts',\n",
              "       'Customer Low Quality indicator', 'cdss_most_rcnt_prob', 'cbr_3_score',\n",
              "       'cnsumr_chrg_avg_credit_12m_amt', 'cnsumr_lend_actv_cust_cnt',\n",
              "       'sow_revol_avg_paydown_pct', 'pre6m_spend', 'pre6m_count',\n",
              "       'cust6m_max_amt', 'reff_spill'],\n",
              "      dtype='object')"
            ]
          },
          "metadata": {
            "tags": []
          },
          "execution_count": 132
        }
      ]
    },
    {
      "cell_type": "markdown",
      "metadata": {
        "id": "5QGcFq5DR8Jv"
      },
      "source": [
        "# **Gradient Boosting Classifier with oversampling**"
      ]
    },
    {
      "cell_type": "code",
      "metadata": {
        "id": "XLUgK9T2gq0m"
      },
      "source": [
        "from imblearn.over_sampling import SMOTE\n",
        "from imblearn.under_sampling import RandomUnderSampler\n",
        "from imblearn.pipeline import Pipeline"
      ],
      "execution_count": null,
      "outputs": []
    },
    {
      "cell_type": "code",
      "metadata": {
        "id": "UExMfCTqin--"
      },
      "source": [
        "over = SMOTE()\n",
        "#under = RandomUnderSampler(sampling_strategy=0.6)\n",
        "model = GradientBoostingClassifier()\n",
        "steps = [('o', over), ('model',model)]\n",
        "pipe = Pipeline(steps=steps)"
      ],
      "execution_count": null,
      "outputs": []
    },
    {
      "cell_type": "code",
      "metadata": {
        "id": "VC18TeArclx5",
        "colab": {
          "base_uri": "https://localhost:8080/"
        },
        "outputId": "683b592f-3cd1-4838-d500-8374524f0ce2"
      },
      "source": [
        "cv = RepeatedStratifiedKFold(n_splits=10, n_repeats=3, random_state=42)\n",
        "scores = cross_val_score(pipe, train, y, scoring='roc_auc', cv=cv, n_jobs=-1)\n",
        "scores.mean()"
      ],
      "execution_count": null,
      "outputs": [
        {
          "output_type": "execute_result",
          "data": {
            "text/plain": [
              "0.6347347994193349"
            ]
          },
          "metadata": {
            "tags": []
          },
          "execution_count": 58
        }
      ]
    },
    {
      "cell_type": "code",
      "metadata": {
        "id": "cDDUcL8cclua",
        "colab": {
          "base_uri": "https://localhost:8080/"
        },
        "outputId": "c45d52ac-9898-4a5c-f7d1-ffd7b24eba49"
      },
      "source": [
        "k_values = [1,2,3,4,5,6,7]\n",
        "for k in k_values:\n",
        "  over = SMOTE(sampling_strategy=0.3, k_neighbors=k)\n",
        "  under = RandomUnderSampler(sampling_strategy=0.6)\n",
        "  model = GradientBoostingClassifier(random_state=42)\n",
        "  steps = [('o', over), ('u', under), ('model',model)]\n",
        "  pipe = Pipeline(steps=steps)\n",
        "  cv = RepeatedStratifiedKFold(n_splits=10, n_repeats=3, random_state=42)\n",
        "  scores = cross_val_score(pipe, train, y, scoring='roc_auc', cv=cv, n_jobs=-1)\n",
        "  print('k = {}, score is {}'.format(k,scores.mean()))"
      ],
      "execution_count": null,
      "outputs": [
        {
          "output_type": "stream",
          "text": [
            "k = 1, score is 0.6501385699718717\n",
            "k = 2, score is 0.6495523180191861\n",
            "k = 3, score is 0.6493172689924119\n",
            "k = 4, score is 0.6493891324568061\n",
            "k = 5, score is 0.6488179369534905\n",
            "k = 6, score is 0.6490852727577597\n",
            "k = 7, score is 0.6504426928871668\n"
          ],
          "name": "stdout"
        }
      ]
    },
    {
      "cell_type": "code",
      "metadata": {
        "id": "i5ZUluy0ok3j"
      },
      "source": [
        "# Since k=4 gives best score so, getting predictions for test data\n",
        "over = SMOTE(sampling_strategy=0.3, k_neighbors=4)\n",
        "under = RandomUnderSampler(sampling_strategy=0.6)\n",
        "steps = [('o', over), ('u',under)]\n",
        "pipe = Pipeline(steps=steps)"
      ],
      "execution_count": null,
      "outputs": []
    },
    {
      "cell_type": "code",
      "metadata": {
        "id": "hX7kPWIuowwN",
        "colab": {
          "base_uri": "https://localhost:8080/"
        },
        "outputId": "2de67053-28bc-469c-8214-9f0fbd16c6a1"
      },
      "source": [
        "sample_x, sample_y = pipe.fit_resample(train, y)\n",
        "\n",
        "counter = Counter(sample_y)\n",
        "print(counter)"
      ],
      "execution_count": null,
      "outputs": [
        {
          "output_type": "stream",
          "text": [
            "Counter({0.0: 7975, 1.0: 4785})\n"
          ],
          "name": "stdout"
        }
      ]
    },
    {
      "cell_type": "code",
      "metadata": {
        "id": "UngJ4Sa2pu7p"
      },
      "source": [
        "xgb = GradientBoostingClassifier()\n",
        "xgb.fit(sample_x, sample_y)\n",
        "predx = xgb.predict(sample_x)"
      ],
      "execution_count": null,
      "outputs": []
    },
    {
      "cell_type": "code",
      "metadata": {
        "id": "0RSBBuEOoweF",
        "colab": {
          "base_uri": "https://localhost:8080/"
        },
        "outputId": "b715a82f-c6fc-4e05-93d3-7305441580da"
      },
      "source": [
        "roc_auc_score(sample_y, predx)"
      ],
      "execution_count": null,
      "outputs": [
        {
          "output_type": "execute_result",
          "data": {
            "text/plain": [
              "0.6620480668756531"
            ]
          },
          "metadata": {
            "tags": []
          },
          "execution_count": 63
        }
      ]
    },
    {
      "cell_type": "code",
      "metadata": {
        "id": "h38MJx-fChqv",
        "colab": {
          "base_uri": "https://localhost:8080/"
        },
        "outputId": "8eed2776-6528-4b69-d0d0-871ece813fb6"
      },
      "source": [
        "print(\"Confusion Matrix:\\n\", confusion_matrix(sample_y, predx))\n",
        "print(\"Precision Score:\", precision_score(sample_y, predx))\n",
        "print(\"Recall score:\", recall_score(sample_y, predx))\n",
        "print(classification_report(sample_y, predx))"
      ],
      "execution_count": null,
      "outputs": [
        {
          "output_type": "stream",
          "text": [
            "Confusion Matrix:\n",
            " [[7443  532]\n",
            " [2915 1870]]\n",
            "Precision Score: 0.7785179017485429\n",
            "Recall score: 0.39080459770114945\n",
            "              precision    recall  f1-score   support\n",
            "\n",
            "         0.0       0.72      0.93      0.81      7975\n",
            "         1.0       0.78      0.39      0.52      4785\n",
            "\n",
            "    accuracy                           0.73     12760\n",
            "   macro avg       0.75      0.66      0.67     12760\n",
            "weighted avg       0.74      0.73      0.70     12760\n",
            "\n"
          ],
          "name": "stdout"
        }
      ]
    },
    {
      "cell_type": "code",
      "metadata": {
        "id": "tefdRIqrO0-y",
        "colab": {
          "base_uri": "https://localhost:8080/",
          "height": 330
        },
        "outputId": "d9ca199b-2d5e-4814-859d-8bae29a9ab80"
      },
      "source": [
        "# generate a no skill prediction (majority class)\n",
        "ns_probs = [0 for _ in range(len(sample_y))]\n",
        "# predict probabilities\n",
        "lr_probs = xgb.predict_proba(sample_x)\n",
        "# keep probabilities for the positive outcome only\n",
        "lr_probs2 = lr_probs[:, 1]\n",
        "# calculate scores\n",
        "ns_auc = roc_auc_score(sample_y, ns_probs)\n",
        "lr_auc = roc_auc_score(sample_y, lr_probs2)\n",
        "# summarize scores\n",
        "print('No Skill: ROC AUC=%.3f' % (ns_auc))\n",
        "print('Gradient Boosting: ROC AUC=%.3f' % (lr_auc))\n",
        "# calculate roc curves\n",
        "ns_fpr, ns_tpr, _ = roc_curve(sample_y, ns_probs)\n",
        "lr_fpr, lr_tpr, _ = roc_curve(sample_y, lr_probs2)\n",
        "# plot the roc curve for the model\n",
        "plt.plot(ns_fpr, ns_tpr, linestyle='--', label='No Skill')\n",
        "plt.plot(lr_fpr, lr_tpr, marker='.', label='Gradient Boosting')\n",
        "# axis labels\n",
        "plt.xlabel('False Positive Rate')\n",
        "plt.ylabel('True Positive Rate')\n",
        "plt.title('Validation ROC Curve: AUC = 0.764', fontsize = 14)\n",
        "# show the legend\n",
        "plt.legend()\n",
        "# show the plot\n",
        "plt.show()"
      ],
      "execution_count": null,
      "outputs": [
        {
          "output_type": "stream",
          "text": [
            "No Skill: ROC AUC=0.500\n",
            "Gradient Boosting: ROC AUC=0.764\n"
          ],
          "name": "stdout"
        },
        {
          "output_type": "display_data",
          "data": {
            "image/png": "[encoded data removed]",
            "text/plain": [
              "<Figure size 432x288 with 1 Axes>"
            ]
          },
          "metadata": {
            "tags": [],
            "needs_background": "light"
          }
        }
      ]
    },
    {
      "cell_type": "code",
      "metadata": {
        "id": "45OLL7GVqRLR"
      },
      "source": [
        "predictions = xgb.predict(test_data)"
      ],
      "execution_count": null,
      "outputs": []
    },
    {
      "cell_type": "code",
      "metadata": {
        "id": "zQemcrBwu18n"
      },
      "source": [
        "submission = pd.DataFrame(list(zip(list(cust_id),list(predictions))), columns=['cust_id', 'profitable_flag'], dtype='int64')"
      ],
      "execution_count": null,
      "outputs": []
    },
    {
      "cell_type": "code",
      "metadata": {
        "id": "IKdOzIrFu2fo",
        "colab": {
          "base_uri": "https://localhost:8080/",
          "height": 204
        },
        "outputId": "94fd93ae-3959-4e1b-fc42-e54ce842b942"
      },
      "source": [
        "submission.head()"
      ],
      "execution_count": null,
      "outputs": [
        {
          "output_type": "execute_result",
          "data": {
            "text/html": [
              "<div>\n",
              "<style scoped>\n",
              "    .dataframe tbody tr th:only-of-type {\n",
              "        vertical-align: middle;\n",
              "    }\n",
              "\n",
              "    .dataframe tbody tr th {\n",
              "        vertical-align: top;\n",
              "    }\n",
              "\n",
              "    .dataframe thead th {\n",
              "        text-align: right;\n",
              "    }\n",
              "</style>\n",
              "<table border=\"1\" class=\"dataframe\">\n",
              "  <thead>\n",
              "    <tr style=\"text-align: right;\">\n",
              "      <th></th>\n",
              "      <th>cust_id</th>\n",
              "      <th>profitable_flag</th>\n",
              "    </tr>\n",
              "  </thead>\n",
              "  <tbody>\n",
              "    <tr>\n",
              "      <th>0</th>\n",
              "      <td>569986</td>\n",
              "      <td>1</td>\n",
              "    </tr>\n",
              "    <tr>\n",
              "      <th>1</th>\n",
              "      <td>569987</td>\n",
              "      <td>0</td>\n",
              "    </tr>\n",
              "    <tr>\n",
              "      <th>2</th>\n",
              "      <td>569988</td>\n",
              "      <td>0</td>\n",
              "    </tr>\n",
              "    <tr>\n",
              "      <th>3</th>\n",
              "      <td>569989</td>\n",
              "      <td>1</td>\n",
              "    </tr>\n",
              "    <tr>\n",
              "      <th>4</th>\n",
              "      <td>569990</td>\n",
              "      <td>0</td>\n",
              "    </tr>\n",
              "  </tbody>\n",
              "</table>\n",
              "</div>"
            ],
            "text/plain": [
              "   cust_id  profitable_flag\n",
              "0   569986                1\n",
              "1   569987                0\n",
              "2   569988                0\n",
              "3   569989                1\n",
              "4   569990                0"
            ]
          },
          "metadata": {
            "tags": []
          },
          "execution_count": 135
        }
      ]
    },
    {
      "cell_type": "code",
      "metadata": {
        "id": "Ib5-IOwXu1vR",
        "colab": {
          "base_uri": "https://localhost:8080/",
          "height": 17
        },
        "outputId": "e5db9804-d957-4e9b-da4c-0857cc116a82"
      },
      "source": [
        "#saving as xgb output\n",
        "submission.to_csv('submission_xgb.csv')\n",
        "\n",
        "from google.colab import files\n",
        "files.download('submission_xgb.csv')"
      ],
      "execution_count": null,
      "outputs": [
        {
          "output_type": "display_data",
          "data": {
            "application/javascript": [
              "\n",
              "    async function download(id, filename, size) {\n",
              "      if (!google.colab.kernel.accessAllowed) {\n",
              "        return;\n",
              "      }\n",
              "      const div = document.createElement('div');\n",
              "      const label = document.createElement('label');\n",
              "      label.textContent = `Downloading \"${filename}\": `;\n",
              "      div.appendChild(label);\n",
              "      const progress = document.createElement('progress');\n",
              "      progress.max = size;\n",
              "      div.appendChild(progress);\n",
              "      document.body.appendChild(div);\n",
              "\n",
              "      const buffers = [];\n",
              "      let downloaded = 0;\n",
              "\n",
              "      const channel = await google.colab.kernel.comms.open(id);\n",
              "      // Send a message to notify the kernel that we're ready.\n",
              "      channel.send({})\n",
              "\n",
              "      for await (const message of channel.messages) {\n",
              "        // Send a message to notify the kernel that we're ready.\n",
              "        channel.send({})\n",
              "        if (message.buffers) {\n",
              "          for (const buffer of message.buffers) {\n",
              "            buffers.push(buffer);\n",
              "            downloaded += buffer.byteLength;\n",
              "            progress.value = downloaded;\n",
              "          }\n",
              "        }\n",
              "      }\n",
              "      const blob = new Blob(buffers, {type: 'application/binary'});\n",
              "      const a = document.createElement('a');\n",
              "      a.href = window.URL.createObjectURL(blob);\n",
              "      a.download = filename;\n",
              "      div.appendChild(a);\n",
              "      a.click();\n",
              "      div.remove();\n",
              "    }\n",
              "  "
            ],
            "text/plain": [
              "<IPython.core.display.Javascript object>"
            ]
          },
          "metadata": {
            "tags": []
          }
        },
        {
          "output_type": "display_data",
          "data": {
            "application/javascript": [
              "download(\"download_5f0ab04c-1d6b-4762-865c-02fcf76e5632\", \"submission_xgb.csv\", 68915)"
            ],
            "text/plain": [
              "<IPython.core.display.Javascript object>"
            ]
          },
          "metadata": {
            "tags": []
          }
        }
      ]
    },
    {
      "cell_type": "markdown",
      "metadata": {
        "id": "sNt76eOtaLJT"
      },
      "source": [
        "# **Random Forest Classifier with oversampling**"
      ]
    },
    {
      "cell_type": "code",
      "metadata": {
        "id": "QkLUxX-5aOJp"
      },
      "source": [
        "from sklearn.ensemble import RandomForestClassifier"
      ],
      "execution_count": null,
      "outputs": []
    },
    {
      "cell_type": "code",
      "metadata": {
        "id": "NJst7f8phNwX",
        "colab": {
          "base_uri": "https://localhost:8080/",
          "height": 863
        },
        "outputId": "f9ac4375-c042-45ec-e117-1490dcf5fa9e"
      },
      "source": [
        "x_train, x_val, y_train, y_val = train_test_split(train, y, test_size=0.2, stratify=y, random_state=42)\n",
        "\n",
        "#Create a Gaussian Classifier\n",
        "clf=RandomForestClassifier(n_estimators=100)\n",
        "\n",
        "#Oversampling\n",
        "over = SMOTE(sampling_strategy=0.3, k_neighbors=4)\n",
        "under = RandomUnderSampler(sampling_strategy=0.5)\n",
        "steps = [('o', over), ('u',under)]\n",
        "pipe = Pipeline(steps=steps)\n",
        "\n",
        "x_train_sampled, y_train_sampled = pipe.fit_resample(x_train, y_train)\n",
        "\n",
        "counter = Counter(y_train_sampled)\n",
        "print('For training:', counter)\n",
        "\n",
        "#Train the model using the training sets y_pred=clf.predict(X_test)\n",
        "clf.fit(x_train_sampled,y_train_sampled)\n",
        "\n",
        "y_pred = clf.predict(x_val)\n",
        "\n",
        "print(\"Confusion Matrix:\\n\", confusion_matrix(y_val, y_pred))\n",
        "print(\"Precision Score:\", precision_score(y_val, y_pred))\n",
        "print(\"Recall score:\", recall_score(y_val, y_pred))\n",
        "print(classification_report(y_val, y_pred))\n",
        "\n",
        "# Visualizing important features\n",
        "feature_imp = pd.Series(clf.feature_importances_, index = train.columns).sort_values(ascending=False)\n",
        "\n",
        "# Creating a bar plot\n",
        "sns.barplot(x=feature_imp, y=feature_imp.index)\n",
        "# Add labels to your graph\n",
        "plt.xlabel('Feature Importance Score')\n",
        "plt.ylabel('Features')\n",
        "plt.title(\"Visualizing Important Features\")\n",
        "plt.show()\n",
        "\n",
        "# ROC plot\n",
        "# generate a no skill prediction (majority class)\n",
        "ns_probs = [0 for _ in range(len(y_val))]\n",
        "# predict probabilities\n",
        "lr_probs = clf.predict_proba(x_val)\n",
        "# keep probabilities for the positive outcome only\n",
        "lr_probs2 = lr_probs[:, 1]\n",
        "# calculate scores\n",
        "ns_auc = roc_auc_score(y_val, ns_probs)\n",
        "lr_auc = roc_auc_score(y_val, lr_probs2)\n",
        "# summarize scores\n",
        "print('No Skill: ROC AUC=%.3f' % (ns_auc))\n",
        "print('Random Forest Classifier: ROC AUC=%.3f' % (lr_auc))\n",
        "# calculate roc curves\n",
        "ns_fpr, ns_tpr, _ = roc_curve(y_val, ns_probs)\n",
        "lr_fpr, lr_tpr, _ = roc_curve(y_val, lr_probs2)\n",
        "# plot the roc curve for the model\n",
        "plt.plot(ns_fpr, ns_tpr, linestyle='--', label='No Skill')\n",
        "plt.plot(lr_fpr, lr_tpr, marker='.', label='Random Forest')\n",
        "# axis labels\n",
        "plt.xlabel('False Positive Rate')\n",
        "plt.ylabel('True Positive Rate')\n",
        "plt.title('Validation ROC Curve: AUC = 0.637', fontsize = 14)\n",
        "# show the legend\n",
        "plt.legend()\n",
        "# show the plot\n",
        "plt.show()"
      ],
      "execution_count": null,
      "outputs": [
        {
          "output_type": "stream",
          "text": [
            "For training: Counter({0.0: 7656, 1.0: 3828})\n",
            "Confusion Matrix:\n",
            " [[2990  200]\n",
            " [ 618  111]]\n",
            "Precision Score: 0.35691318327974275\n",
            "Recall score: 0.1522633744855967\n",
            "              precision    recall  f1-score   support\n",
            "\n",
            "         0.0       0.83      0.94      0.88      3190\n",
            "         1.0       0.36      0.15      0.21       729\n",
            "\n",
            "    accuracy                           0.79      3919\n",
            "   macro avg       0.59      0.54      0.55      3919\n",
            "weighted avg       0.74      0.79      0.76      3919\n",
            "\n"
          ],
          "name": "stdout"
        },
        {
          "output_type": "display_data",
          "data": {
            "image/png": "[encoded data removed]",
            "text/plain": [
              "<Figure size 432x288 with 1 Axes>"
            ]
          },
          "metadata": {
            "tags": [],
            "needs_background": "light"
          }
        },
        {
          "output_type": "stream",
          "text": [
            "No Skill: ROC AUC=0.500\n",
            "Random Forest Classifier: ROC AUC=0.626\n"
          ],
          "name": "stdout"
        },
        {
          "output_type": "display_data",
          "data": {
            "image/png": "[encoded data removed]",
            "text/plain": [
              "<Figure size 432x288 with 1 Axes>"
            ]
          },
          "metadata": {
            "tags": [],
            "needs_background": "light"
          }
        }
      ]
    },
    {
      "cell_type": "markdown",
      "metadata": {
        "id": "469cID8kRwJu"
      },
      "source": [
        "#**Neural Network Classifier with oversampling**"
      ]
    },
    {
      "cell_type": "code",
      "metadata": {
        "id": "stgSk-PaclrJ"
      },
      "source": [
        "import tensorflow as tf\n",
        "from keras.models import Sequential\n",
        "from keras.wrappers.scikit_learn import KerasClassifier\n",
        "from keras.layers import Dense, Dropout\n",
        "from keras import backend as K\n",
        "from keras.optimizers import SGD\n",
        "from tensorflow.keras.callbacks import EarlyStopping, ModelCheckpoint"
      ],
      "execution_count": null,
      "outputs": []
    },
    {
      "cell_type": "code",
      "metadata": {
        "id": "w0NyVKXReE8Y",
        "colab": {
          "base_uri": "https://localhost:8080/"
        },
        "outputId": "93357c23-7b77-44f8-8b28-33b72579a7ef"
      },
      "source": [
        "x_train, x_val, y_train, y_val = train_test_split(train, y, test_size=0.2, stratify=y, random_state=42)\n",
        "# x_train.head(5)\n",
        "# y_train.head(5)\n",
        "print('x_train shape:', x_train.shape)\n",
        "print('y_train shape:', y_train.shape)\n",
        "print('x_val shape:', x_val.shape)\n",
        "print('y_val shape:', y_val.shape)"
      ],
      "execution_count": null,
      "outputs": [
        {
          "output_type": "stream",
          "text": [
            "x_train shape: (15676, 20)\n",
            "y_train shape: (15676,)\n",
            "x_val shape: (3919, 20)\n",
            "y_val shape: (3919,)\n"
          ],
          "name": "stdout"
        }
      ]
    },
    {
      "cell_type": "code",
      "metadata": {
        "id": "BKcrKtt9a5aG",
        "colab": {
          "base_uri": "https://localhost:8080/"
        },
        "outputId": "753b203a-a009-481f-87ab-1d4c7d78239e"
      },
      "source": [
        "over = SMOTE(sampling_strategy=0.3, k_neighbors=4)\n",
        "under = RandomUnderSampler(sampling_strategy=0.5)\n",
        "steps = [('o', over), ('u',under)]\n",
        "pipe = Pipeline(steps=steps)\n",
        "\n",
        "x_train_sampled, y_train_sampled = pipe.fit_resample(x_train, y_train)\n",
        "\n",
        "counter = Counter(y_train_sampled)\n",
        "print('For training:', counter)"
      ],
      "execution_count": null,
      "outputs": [
        {
          "output_type": "stream",
          "text": [
            "For training: Counter({0.0: 7656, 1.0: 3828})\n"
          ],
          "name": "stdout"
        }
      ]
    },
    {
      "cell_type": "code",
      "metadata": {
        "id": "CTYTS_cdbGcr",
        "colab": {
          "base_uri": "https://localhost:8080/"
        },
        "outputId": "a81e5fc0-7df3-4948-9f5d-2ff6e0a9f828"
      },
      "source": [
        "over = SMOTE(sampling_strategy=0.3, k_neighbors=4)\n",
        "under = RandomUnderSampler(sampling_strategy=0.5)\n",
        "steps = [('o', over), ('u',under)]\n",
        "pipe = Pipeline(steps=steps)\n",
        "\n",
        "# x_val_sampled, y_val_sampled = pipe.fit_resample(x_val, y_val)\n",
        "x_val_sampled, y_val_sampled = np.array(x_val.values), np.array(y_val.values)\n",
        "\n",
        "counter = Counter(y_val_sampled)\n",
        "print('For validation:', counter)"
      ],
      "execution_count": null,
      "outputs": [
        {
          "output_type": "stream",
          "text": [
            "For validation: Counter({0.0: 3190, 1.0: 729})\n"
          ],
          "name": "stdout"
        }
      ]
    },
    {
      "cell_type": "code",
      "metadata": {
        "id": "TITvBSbbSxfZ"
      },
      "source": [
        "N = y_train.shape[0]\n",
        "pos_freq = np.sum(y_train.values, axis=0) / N\n",
        "neg_freq = 1 - pos_freq\n",
        "pos_weights = neg_freq\n",
        "neg_weights = pos_freq"
      ],
      "execution_count": null,
      "outputs": []
    },
    {
      "cell_type": "code",
      "metadata": {
        "id": "ZpY9_aBKU4I6"
      },
      "source": [
        "scaler = StandardScaler()\n",
        "scaler.fit(train)\n",
        "x_train_scaled = scaler.transform(x_train_sampled)\n",
        "x_val_scaled = scaler.transform(x_val_sampled)\n",
        "\n",
        "# y_train_array = np.array(y_train.values)\n",
        "y_train_tensor = K.constant(y_train_sampled)\n",
        "\n",
        "# y_val_array = np.array(y_val.values)\n",
        "y_val_tensor = K.constant(y_val_sampled)"
      ],
      "execution_count": null,
      "outputs": []
    },
    {
      "cell_type": "code",
      "metadata": {
        "id": "m88AwKGqQ8y0"
      },
      "source": [
        "def get_weighted_loss(pos_weights, neg_weights, epsilon = 1e-7):\n",
        "  \n",
        "  \n",
        "  def weighted_loss(y_true, y_pred):\n",
        "        loss = 0.0\n",
        "        loss_pos = - K.mean(pos_weights * y_true * K.log(y_pred + epsilon))\n",
        "        loss_neg = - K.mean(neg_weights * (1 - y_true) * K.log(1 - y_pred + epsilon))\n",
        "        loss += loss_pos + loss_neg\n",
        "        \n",
        "        return loss\n",
        "\n",
        "\n",
        "  return weighted_loss"
      ],
      "execution_count": null,
      "outputs": []
    },
    {
      "cell_type": "code",
      "metadata": {
        "id": "mlNqR4Tgcln2"
      },
      "source": [
        "def get_model():\n",
        "  model = Sequential()\n",
        "  model.add(Dense(20, input_dim=20, activation='tanh', kernel_initializer='he_uniform'))\n",
        "  model.add(Dense(32, activation='tanh'))\n",
        "  model.add(Dropout(0.2))\n",
        "  model.add(Dense(1, activation='sigmoid'))\n",
        "  \n",
        "  opt = SGD(lr=0.01, momentum=0.9)\n",
        "  model.compile(loss='binary_crossentropy', \n",
        "                optimizer = opt, \n",
        "                metrics = [tf.keras.metrics.AUC()]\n",
        "                )\n",
        "  # model.compile(optimizer='adam', loss=get_weighted_loss(pos_weights, neg_weights), metrics=[tf.keras.metrics.AUC()])\n",
        "\n",
        "  return model"
      ],
      "execution_count": null,
      "outputs": []
    },
    {
      "cell_type": "code",
      "metadata": {
        "id": "7ihptDTM2ybO",
        "colab": {
          "base_uri": "https://localhost:8080/",
          "height": 1000
        },
        "outputId": "92ce3678-5624-4274-b6ba-841ebf0ae395"
      },
      "source": [
        "model = get_model()\n",
        "early_stopping = EarlyStopping(monitor='val_loss', \n",
        "                               mode='min', \n",
        "                               verbose = 1, # Shows progress of each epoch\n",
        "                               patience = 8, # Check for 8 more iterations after loss decrement stalls\n",
        "                               restore_best_weights = False\n",
        "                               )\n",
        "\n",
        "loss_history = model.fit(x_train_scaled, \n",
        "                         y_train_tensor, epochs=40, \n",
        "                         verbose=1, \n",
        "                         validation_data=(x_val_scaled, y_val_sampled), \n",
        "                         callbacks= [early_stopping]\n",
        "                         )\n",
        "\n",
        "model.summary() # Get model summary\n",
        "\n",
        "# early_stopping.stopped_epoch returns 0 if training didn't stop early.\n",
        "if early_stopping.stopped_epoch != 0:\n",
        "  print('Training stopped after',early_stopping.stopped_epoch,'epochs.')\n",
        "\n",
        "plt.plot(loss_history.history['loss'])\n",
        "plt.plot(loss_history.history['val_loss'])\n",
        "plt.title('Model Loss vs. Epoch')\n",
        "plt.ylabel('loss')\n",
        "plt.xlabel('Epoch')\n",
        "plt.legend(['Train', 'Validation'], loc='upper right')\n",
        "plt.show()"
      ],
      "execution_count": null,
      "outputs": [
        {
          "output_type": "stream",
          "text": [
            "Epoch 1/40\n",
            "359/359 [==============================] - 1s 3ms/step - loss: 0.6305 - auc: 0.5962 - val_loss: 0.5089 - val_auc: 0.6422\n",
            "Epoch 2/40\n",
            "359/359 [==============================] - 1s 1ms/step - loss: 0.6123 - auc: 0.6329 - val_loss: 0.4986 - val_auc: 0.6436\n",
            "Epoch 3/40\n",
            "359/359 [==============================] - 1s 1ms/step - loss: 0.6109 - auc: 0.6378 - val_loss: 0.5140 - val_auc: 0.6524\n",
            "Epoch 4/40\n",
            "359/359 [==============================] - 1s 2ms/step - loss: 0.6081 - auc: 0.6439 - val_loss: 0.5175 - val_auc: 0.6530\n",
            "Epoch 5/40\n",
            "359/359 [==============================] - 1s 2ms/step - loss: 0.6075 - auc: 0.6444 - val_loss: 0.4914 - val_auc: 0.6501\n",
            "Epoch 6/40\n",
            "359/359 [==============================] - 1s 2ms/step - loss: 0.6062 - auc: 0.6469 - val_loss: 0.5097 - val_auc: 0.6565\n",
            "Epoch 7/40\n",
            "359/359 [==============================] - 1s 2ms/step - loss: 0.6035 - auc: 0.6540 - val_loss: 0.5138 - val_auc: 0.6576\n",
            "Epoch 8/40\n",
            "359/359 [==============================] - 1s 1ms/step - loss: 0.6024 - auc: 0.6549 - val_loss: 0.5292 - val_auc: 0.6585\n",
            "Epoch 9/40\n",
            "359/359 [==============================] - 1s 2ms/step - loss: 0.6038 - auc: 0.6532 - val_loss: 0.5114 - val_auc: 0.6544\n",
            "Epoch 10/40\n",
            "359/359 [==============================] - 1s 2ms/step - loss: 0.6016 - auc: 0.6581 - val_loss: 0.4991 - val_auc: 0.6528\n",
            "Epoch 11/40\n",
            "359/359 [==============================] - 1s 2ms/step - loss: 0.6012 - auc: 0.6589 - val_loss: 0.5100 - val_auc: 0.6601\n",
            "Epoch 12/40\n",
            "359/359 [==============================] - 1s 1ms/step - loss: 0.6003 - auc: 0.6604 - val_loss: 0.5059 - val_auc: 0.6582\n",
            "Epoch 13/40\n",
            "359/359 [==============================] - 1s 2ms/step - loss: 0.5998 - auc: 0.6607 - val_loss: 0.5091 - val_auc: 0.6574\n",
            "Epoch 00013: early stopping\n",
            "Model: \"sequential\"\n",
            "_________________________________________________________________\n",
            "Layer (type)                 Output Shape              Param #   \n",
            "=================================================================\n",
            "dense (Dense)                (None, 20)                420       \n",
            "_________________________________________________________________\n",
            "dense_1 (Dense)              (None, 32)                672       \n",
            "_________________________________________________________________\n",
            "dropout (Dropout)            (None, 32)                0         \n",
            "_________________________________________________________________\n",
            "dense_2 (Dense)              (None, 1)                 33        \n",
            "=================================================================\n",
            "Total params: 1,125\n",
            "Trainable params: 1,125\n",
            "Non-trainable params: 0\n",
            "_________________________________________________________________\n",
            "Training stopped after 12 epochs.\n"
          ],
          "name": "stdout"
        },
        {
          "output_type": "display_data",
          "data": {
            "image/png": "[encoded data removed]",
            "text/plain": [
              "<Figure size 432x288 with 1 Axes>"
            ]
          },
          "metadata": {
            "tags": [],
            "needs_background": "light"
          }
        }
      ]
    },
    {
      "cell_type": "code",
      "metadata": {
        "id": "QP3SPXeJ3-JC",
        "colab": {
          "base_uri": "https://localhost:8080/",
          "height": 568
        },
        "outputId": "bc6bd312-6b4e-4147-9b32-4a9628cc1544"
      },
      "source": [
        "y_pred_val = model.predict(x_val_scaled)\n",
        "y_pred_val = np.where(y_pred_val > 0.5, 1, 0).flatten()\n",
        "print(\"Confusion Matrix:\\n\",confusion_matrix(y_val_tensor, y_pred_val))\n",
        "print(\"Precision Score:\", precision_score(y_val_tensor, y_pred_val))\n",
        "print(\"Recall Score:\", recall_score(y_val_tensor, y_pred_val))\n",
        "print(classification_report(y_val_tensor, y_pred_val))\n",
        "\n",
        "# generate a no skill prediction (majority class)\n",
        "ns_probs = [0 for _ in range(len(y_val_tensor))]\n",
        "# predict probabilities\n",
        "lr_probs = model.predict_proba(x_val_scaled)\n",
        "# keep probabilities for the positive outcome only\n",
        "lr_probs2 = lr_probs[:]\n",
        "# calculate scores\n",
        "ns_auc = roc_auc_score(y_val_tensor, ns_probs)\n",
        "lr_auc = roc_auc_score(y_val_tensor, lr_probs2)\n",
        "# summarize scores\n",
        "print('No Skill: ROC AUC=%.3f' % (ns_auc))\n",
        "print('ANN: ROC AUC=%.3f' % (lr_auc))\n",
        "# calculate roc curves\n",
        "ns_fpr, ns_tpr, _ = roc_curve(y_val_tensor, ns_probs)\n",
        "lr_fpr, lr_tpr, _ = roc_curve(y_val_tensor, lr_probs2)\n",
        "# plot the roc curve for the model\n",
        "plt.plot(ns_fpr, ns_tpr, linestyle='--', label='No Skill')\n",
        "plt.plot(lr_fpr, lr_tpr, marker='.', label='ANN')\n",
        "# axis labels\n",
        "plt.xlabel('False Positive Rate')\n",
        "plt.ylabel('True Positive Rate')\n",
        "plt.title('Validation ROC Curve: AUC = 0.657', fontsize = 14)\n",
        "# show the legend\n",
        "plt.legend()\n",
        "# show the plot\n",
        "plt.show()"
      ],
      "execution_count": null,
      "outputs": [
        {
          "output_type": "stream",
          "text": [
            "Confusion Matrix:\n",
            " [[3011  179]\n",
            " [ 629  100]]\n",
            "Precision Score: 0.35842293906810035\n",
            "Recall Score: 0.13717421124828533\n",
            "              precision    recall  f1-score   support\n",
            "\n",
            "         0.0       0.83      0.94      0.88      3190\n",
            "         1.0       0.36      0.14      0.20       729\n",
            "\n",
            "    accuracy                           0.79      3919\n",
            "   macro avg       0.59      0.54      0.54      3919\n",
            "weighted avg       0.74      0.79      0.75      3919\n",
            "\n",
            "No Skill: ROC AUC=0.500\n",
            "ANN: ROC AUC=0.657\n"
          ],
          "name": "stdout"
        },
        {
          "output_type": "display_data",
          "data": {
            "image/png": "[encoded data removed]",
            "text/plain": [
              "<Figure size 432x288 with 1 Axes>"
            ]
          },
          "metadata": {
            "tags": [],
            "needs_background": "light"
          }
        }
      ]
    },
    {
      "cell_type": "code",
      "metadata": {
        "id": "3i64bQOFd5XA"
      },
      "source": [
        "# predicting for test using ANN\n",
        "test_scaled = scaler.transform(test_data)"
      ],
      "execution_count": null,
      "outputs": []
    },
    {
      "cell_type": "code",
      "metadata": {
        "id": "J1SvEBijxA7G"
      },
      "source": [
        "predictions = model.predict(test_scaled)"
      ],
      "execution_count": null,
      "outputs": []
    },
    {
      "cell_type": "code",
      "metadata": {
        "id": "sflmHajjxHNY",
        "colab": {
          "base_uri": "https://localhost:8080/"
        },
        "outputId": "6f27cde0-2e96-43e3-a19b-8ab963af4fbf"
      },
      "source": [
        "predictions = np.where(predictions > 0.5, 1, 0).flatten()\n",
        "predictions"
      ],
      "execution_count": null,
      "outputs": [
        {
          "output_type": "execute_result",
          "data": {
            "text/plain": [
              "array([0, 0, 0, ..., 0, 0, 0])"
            ]
          },
          "metadata": {
            "tags": []
          },
          "execution_count": 646
        }
      ]
    },
    {
      "cell_type": "code",
      "metadata": {
        "id": "hVHj7qvAypO3"
      },
      "source": [
        "submission = pd.DataFrame(list(zip(list(cust_id),list(predictions))), columns=['cust_id', 'profitable_flag'], dtype='int64')"
      ],
      "execution_count": null,
      "outputs": []
    },
    {
      "cell_type": "code",
      "metadata": {
        "id": "HBvfsAMhzKfd",
        "colab": {
          "base_uri": "https://localhost:8080/",
          "height": 204
        },
        "outputId": "6a396d09-db99-406a-9d9c-c02906bf459b"
      },
      "source": [
        "submission.head()"
      ],
      "execution_count": null,
      "outputs": [
        {
          "output_type": "execute_result",
          "data": {
            "text/html": [
              "<div>\n",
              "<style scoped>\n",
              "    .dataframe tbody tr th:only-of-type {\n",
              "        vertical-align: middle;\n",
              "    }\n",
              "\n",
              "    .dataframe tbody tr th {\n",
              "        vertical-align: top;\n",
              "    }\n",
              "\n",
              "    .dataframe thead th {\n",
              "        text-align: right;\n",
              "    }\n",
              "</style>\n",
              "<table border=\"1\" class=\"dataframe\">\n",
              "  <thead>\n",
              "    <tr style=\"text-align: right;\">\n",
              "      <th></th>\n",
              "      <th>cust_id</th>\n",
              "      <th>profitable_flag</th>\n",
              "    </tr>\n",
              "  </thead>\n",
              "  <tbody>\n",
              "    <tr>\n",
              "      <th>0</th>\n",
              "      <td>569986</td>\n",
              "      <td>1</td>\n",
              "    </tr>\n",
              "    <tr>\n",
              "      <th>1</th>\n",
              "      <td>569987</td>\n",
              "      <td>0</td>\n",
              "    </tr>\n",
              "    <tr>\n",
              "      <th>2</th>\n",
              "      <td>569988</td>\n",
              "      <td>0</td>\n",
              "    </tr>\n",
              "    <tr>\n",
              "      <th>3</th>\n",
              "      <td>569989</td>\n",
              "      <td>1</td>\n",
              "    </tr>\n",
              "    <tr>\n",
              "      <th>4</th>\n",
              "      <td>569990</td>\n",
              "      <td>0</td>\n",
              "    </tr>\n",
              "  </tbody>\n",
              "</table>\n",
              "</div>"
            ],
            "text/plain": [
              "   cust_id  profitable_flag\n",
              "0   569986                1\n",
              "1   569987                0\n",
              "2   569988                0\n",
              "3   569989                1\n",
              "4   569990                0"
            ]
          },
          "metadata": {
            "tags": []
          },
          "execution_count": 504
        }
      ]
    },
    {
      "cell_type": "code",
      "metadata": {
        "id": "lK__pLCAzNbn"
      },
      "source": [
        "# save predictions of ANN\n",
        "submission.to_csv('submission_ANN.csv')"
      ],
      "execution_count": null,
      "outputs": []
    }
  ]
}